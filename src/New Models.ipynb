{
 "cells": [
  {
   "cell_type": "markdown",
   "id": "ddee39e1",
   "metadata": {},
   "source": [
    "# Librerías"
   ]
  },
  {
   "cell_type": "code",
   "execution_count": 1,
   "id": "e04cdc6f",
   "metadata": {},
   "outputs": [],
   "source": [
    "import warnings\n",
    "\n",
    "warnings.filterwarnings(\"ignore\", category=DeprecationWarning)\n",
    "warnings.filterwarnings(\"ignore\", category=FutureWarning)\n",
    "warnings.filterwarnings(\"ignore\", category=UserWarning)"
   ]
  },
  {
   "cell_type": "code",
   "execution_count": 2,
   "id": "0d1d801d",
   "metadata": {},
   "outputs": [
    {
     "name": "stderr",
     "output_type": "stream",
     "text": [
      "2025-05-17 08:56:26.956000: E external/local_xla/xla/stream_executor/cuda/cuda_fft.cc:467] Unable to register cuFFT factory: Attempting to register factory for plugin cuFFT when one has already been registered\n",
      "WARNING: All log messages before absl::InitializeLog() is called are written to STDERR\n",
      "E0000 00:00:1747464986.978402    8440 cuda_dnn.cc:8579] Unable to register cuDNN factory: Attempting to register factory for plugin cuDNN when one has already been registered\n",
      "E0000 00:00:1747464986.986378    8440 cuda_blas.cc:1407] Unable to register cuBLAS factory: Attempting to register factory for plugin cuBLAS when one has already been registered\n",
      "W0000 00:00:1747464987.011417    8440 computation_placer.cc:177] computation placer already registered. Please check linkage and avoid linking the same target more than once.\n",
      "W0000 00:00:1747464987.011444    8440 computation_placer.cc:177] computation placer already registered. Please check linkage and avoid linking the same target more than once.\n",
      "W0000 00:00:1747464987.011445    8440 computation_placer.cc:177] computation placer already registered. Please check linkage and avoid linking the same target more than once.\n",
      "W0000 00:00:1747464987.011447    8440 computation_placer.cc:177] computation placer already registered. Please check linkage and avoid linking the same target more than once.\n",
      "2025-05-17 08:56:27.017806: I tensorflow/core/platform/cpu_feature_guard.cc:210] This TensorFlow binary is optimized to use available CPU instructions in performance-critical operations.\n",
      "To enable the following instructions: AVX2 FMA, in other operations, rebuild TensorFlow with the appropriate compiler flags.\n"
     ]
    }
   ],
   "source": [
    "import pandas as pd\n",
    "import numpy as np\n",
    "from scipy.ndimage import label\n",
    "\n",
    "import tensorflow as tf\n",
    "\n",
    "from sklearn.preprocessing import StandardScaler\n",
    "from sklearn.model_selection import train_test_split\n",
    "from tensorflow.keras.models import Model\n",
    "from tensorflow.keras.layers import Input, Dense, Dropout,  RepeatVector, TimeDistributed\n",
    "import matplotlib.pyplot as plt"
   ]
  },
  {
   "cell_type": "markdown",
   "id": "3838646a",
   "metadata": {},
   "source": [
    "# Data"
   ]
  },
  {
   "cell_type": "code",
   "execution_count": 3,
   "id": "3b5e6eed",
   "metadata": {},
   "outputs": [
    {
     "data": {
      "text/plain": [
       "(   id  channel_1  channel_10  channel_11  channel_12  channel_13  channel_14  \\\n",
       " 0   0    0.13791         0.0         0.0    0.317175    0.371764    0.297205   \n",
       " 1   1    0.13791         0.0         0.0    0.317175    0.371764    0.297205   \n",
       " 2   2    0.13791         0.0         0.0    0.317175    0.371764    0.297205   \n",
       " 3   3    0.13791         0.0         0.0    0.317175    0.371764    0.297205   \n",
       " 4   4    0.13791         0.0         0.0    0.317175    0.371764    0.297205   \n",
       " \n",
       "    channel_15  channel_16  channel_17  ...  telecommand_351  telecommand_352  \\\n",
       " 0    0.130113    0.766769    0.349474  ...              0.0              0.0   \n",
       " 1    0.130113    0.766769    0.349474  ...              0.0              0.0   \n",
       " 2    0.130113    0.766769    0.349474  ...              0.0              0.0   \n",
       " 3    0.130113    0.766769    0.349474  ...              0.0              0.0   \n",
       " 4    0.130113    0.766769    0.349474  ...              0.0              0.0   \n",
       " \n",
       "    telecommand_353  telecommand_354  telecommand_36  telecommand_376  \\\n",
       " 0              0.0              0.0             0.0              0.0   \n",
       " 1              0.0              0.0             0.0              0.0   \n",
       " 2              0.0              0.0             0.0              0.0   \n",
       " 3              0.0              0.0             0.0              0.0   \n",
       " 4              0.0              0.0             0.0              0.0   \n",
       " \n",
       "    telecommand_38  telecommand_39  telecommand_40  is_anomaly  \n",
       " 0             0.0             0.0             0.0           0  \n",
       " 1             0.0             0.0             0.0           0  \n",
       " 2             0.0             0.0             0.0           0  \n",
       " 3             0.0             0.0             0.0           0  \n",
       " 4             0.0             0.0             0.0           0  \n",
       " \n",
       " [5 rows x 89 columns],\n",
       " (14728321, 89),\n",
       "          id  channel_1  channel_10  channel_11  channel_12  channel_13  \\\n",
       " 0  14728321    0.13791         0.0         0.0    0.218915    0.270384   \n",
       " 1  14728322    0.13791         0.0         0.0    0.218915    0.270384   \n",
       " 2  14728323    0.13791         0.0         0.0    0.218915    0.270384   \n",
       " 3  14728324    0.13791         0.0         0.0    0.218915    0.270384   \n",
       " 4  14728325    0.13791         0.0         0.0    0.218915    0.270384   \n",
       " \n",
       "    channel_14  channel_15  channel_16  channel_17  ...  telecommand_350  \\\n",
       " 0     0.63107    0.314563    0.786995    0.265045  ...                0   \n",
       " 1     0.63107    0.314563    0.786995    0.265045  ...                0   \n",
       " 2     0.63107    0.314563    0.786995    0.265045  ...                0   \n",
       " 3     0.63107    0.314563    0.786995    0.265045  ...                0   \n",
       " 4     0.63107    0.314563    0.786995    0.265045  ...                0   \n",
       " \n",
       "    telecommand_351  telecommand_352  telecommand_353  telecommand_354  \\\n",
       " 0                0                0                0              0.0   \n",
       " 1                0                0                0              0.0   \n",
       " 2                0                0                0              0.0   \n",
       " 3                0                0                0              0.0   \n",
       " 4                0                0                0              0.0   \n",
       " \n",
       "    telecommand_36  telecommand_376  telecommand_38  telecommand_39  \\\n",
       " 0             0.0                0             0.0             0.0   \n",
       " 1             0.0                0             0.0             0.0   \n",
       " 2             0.0                0             0.0             0.0   \n",
       " 3             0.0                0             0.0             0.0   \n",
       " 4             0.0                0             0.0             0.0   \n",
       " \n",
       "    telecommand_40  \n",
       " 0             0.0  \n",
       " 1             0.0  \n",
       " 2             0.0  \n",
       " 3             0.0  \n",
       " 4             0.0  \n",
       " \n",
       " [5 rows x 88 columns],\n",
       " (521280, 88))"
      ]
     },
     "execution_count": 3,
     "metadata": {},
     "output_type": "execute_result"
    }
   ],
   "source": [
    "# 1. CARGA DE DATOS\n",
    "train_df = pd.read_parquet(\"../data/train.parquet\")\n",
    "test_df = pd.read_parquet(\"../data/test.parquet\")\n",
    "\n",
    "train_df.head(), train_df.shape, test_df.head(), test_df.shape"
   ]
  },
  {
   "cell_type": "code",
   "execution_count": 4,
   "id": "f73bf8c3",
   "metadata": {},
   "outputs": [
    {
     "data": {
      "text/html": [
       "<div>\n",
       "<style scoped>\n",
       "    .dataframe tbody tr th:only-of-type {\n",
       "        vertical-align: middle;\n",
       "    }\n",
       "\n",
       "    .dataframe tbody tr th {\n",
       "        vertical-align: top;\n",
       "    }\n",
       "\n",
       "    .dataframe thead th {\n",
       "        text-align: right;\n",
       "    }\n",
       "</style>\n",
       "<table border=\"1\" class=\"dataframe\">\n",
       "  <thead>\n",
       "    <tr style=\"text-align: right;\">\n",
       "      <th></th>\n",
       "      <th>ds</th>\n",
       "      <th>unique_id</th>\n",
       "      <th>y</th>\n",
       "    </tr>\n",
       "  </thead>\n",
       "  <tbody>\n",
       "    <tr>\n",
       "      <th>0</th>\n",
       "      <td>2000-01-01 00:00:00</td>\n",
       "      <td>channel_41</td>\n",
       "      <td>0.812578</td>\n",
       "    </tr>\n",
       "    <tr>\n",
       "      <th>1</th>\n",
       "      <td>2000-01-01 00:01:00</td>\n",
       "      <td>channel_41</td>\n",
       "      <td>0.812578</td>\n",
       "    </tr>\n",
       "    <tr>\n",
       "      <th>2</th>\n",
       "      <td>2000-01-01 00:02:00</td>\n",
       "      <td>channel_41</td>\n",
       "      <td>0.821213</td>\n",
       "    </tr>\n",
       "    <tr>\n",
       "      <th>3</th>\n",
       "      <td>2000-01-01 00:03:00</td>\n",
       "      <td>channel_41</td>\n",
       "      <td>0.819642</td>\n",
       "    </tr>\n",
       "    <tr>\n",
       "      <th>4</th>\n",
       "      <td>2000-01-01 00:04:00</td>\n",
       "      <td>channel_41</td>\n",
       "      <td>0.821996</td>\n",
       "    </tr>\n",
       "    <tr>\n",
       "      <th>5</th>\n",
       "      <td>2000-01-01 00:05:00</td>\n",
       "      <td>channel_41</td>\n",
       "      <td>0.819642</td>\n",
       "    </tr>\n",
       "    <tr>\n",
       "      <th>6</th>\n",
       "      <td>2000-01-01 00:06:00</td>\n",
       "      <td>channel_41</td>\n",
       "      <td>0.821996</td>\n",
       "    </tr>\n",
       "    <tr>\n",
       "      <th>7</th>\n",
       "      <td>2000-01-01 00:07:00</td>\n",
       "      <td>channel_41</td>\n",
       "      <td>0.820427</td>\n",
       "    </tr>\n",
       "    <tr>\n",
       "      <th>8</th>\n",
       "      <td>2000-01-01 00:08:00</td>\n",
       "      <td>channel_41</td>\n",
       "      <td>0.820427</td>\n",
       "    </tr>\n",
       "    <tr>\n",
       "      <th>9</th>\n",
       "      <td>2000-01-01 00:09:00</td>\n",
       "      <td>channel_41</td>\n",
       "      <td>0.821996</td>\n",
       "    </tr>\n",
       "  </tbody>\n",
       "</table>\n",
       "</div>"
      ],
      "text/plain": [
       "                   ds   unique_id         y\n",
       "0 2000-01-01 00:00:00  channel_41  0.812578\n",
       "1 2000-01-01 00:01:00  channel_41  0.812578\n",
       "2 2000-01-01 00:02:00  channel_41  0.821213\n",
       "3 2000-01-01 00:03:00  channel_41  0.819642\n",
       "4 2000-01-01 00:04:00  channel_41  0.821996\n",
       "5 2000-01-01 00:05:00  channel_41  0.819642\n",
       "6 2000-01-01 00:06:00  channel_41  0.821996\n",
       "7 2000-01-01 00:07:00  channel_41  0.820427\n",
       "8 2000-01-01 00:08:00  channel_41  0.820427\n",
       "9 2000-01-01 00:09:00  channel_41  0.821996"
      ]
     },
     "execution_count": 4,
     "metadata": {},
     "output_type": "execute_result"
    }
   ],
   "source": [
    "target_channels = [f'channel_{i}' for i in range(41, 47)]  # canales del 41 al 46\n",
    "\n",
    "train_filtered_df = train_df[['id'] + target_channels]\n",
    "\n",
    "long_format_df = train_filtered_df.melt(id_vars=['id'], var_name='unique_id', value_name='y')\n",
    "\n",
    "long_format_df.rename(columns={'id': 'ds'}, inplace=True)\n",
    "\n",
    "long_format_df['ds'] = pd.to_timedelta(long_format_df['ds'] - long_format_df['ds'].min(), unit='m') + pd.Timestamp(\"2000-01-01\")\n",
    "\n",
    "long_format_df.head(10)"
   ]
  },
  {
   "cell_type": "code",
   "execution_count": 5,
   "id": "3a5e608f",
   "metadata": {},
   "outputs": [],
   "source": [
    "h = 4  # horizonte de predicción\n",
    "input_size = 5  # tamaño de la ventana de entrada\n",
    "\n",
    "# === 4. División en train/test por canal ===\n",
    "train_df_final = long_format_df.groupby('unique_id').apply(lambda g: g.iloc[:-h]).reset_index(drop=True)\n",
    "# test_df_final = long_format_df.groupby('unique_id').apply(lambda g: g.iloc[-h:]).reset_index(drop=True)"
   ]
  },
  {
   "cell_type": "code",
   "execution_count": 6,
   "id": "1b9f7d41",
   "metadata": {},
   "outputs": [
    {
     "data": {
      "text/plain": [
       "(88369902, 3)"
      ]
     },
     "execution_count": 6,
     "metadata": {},
     "output_type": "execute_result"
    }
   ],
   "source": [
    "train_df_final.shape"
   ]
  },
  {
   "cell_type": "code",
   "execution_count": 7,
   "id": "b3e39b8e",
   "metadata": {},
   "outputs": [
    {
     "data": {
      "text/html": [
       "<div>\n",
       "<style scoped>\n",
       "    .dataframe tbody tr th:only-of-type {\n",
       "        vertical-align: middle;\n",
       "    }\n",
       "\n",
       "    .dataframe tbody tr th {\n",
       "        vertical-align: top;\n",
       "    }\n",
       "\n",
       "    .dataframe thead th {\n",
       "        text-align: right;\n",
       "    }\n",
       "</style>\n",
       "<table border=\"1\" class=\"dataframe\">\n",
       "  <thead>\n",
       "    <tr style=\"text-align: right;\">\n",
       "      <th></th>\n",
       "      <th>ds</th>\n",
       "      <th>unique_id</th>\n",
       "      <th>y</th>\n",
       "    </tr>\n",
       "  </thead>\n",
       "  <tbody>\n",
       "    <tr>\n",
       "      <th>0</th>\n",
       "      <td>2000-01-01 00:00:00</td>\n",
       "      <td>channel_41</td>\n",
       "      <td>0.812578</td>\n",
       "    </tr>\n",
       "    <tr>\n",
       "      <th>1</th>\n",
       "      <td>2000-01-01 00:01:00</td>\n",
       "      <td>channel_41</td>\n",
       "      <td>0.812578</td>\n",
       "    </tr>\n",
       "    <tr>\n",
       "      <th>2</th>\n",
       "      <td>2000-01-01 00:02:00</td>\n",
       "      <td>channel_41</td>\n",
       "      <td>0.821213</td>\n",
       "    </tr>\n",
       "    <tr>\n",
       "      <th>3</th>\n",
       "      <td>2000-01-01 00:03:00</td>\n",
       "      <td>channel_41</td>\n",
       "      <td>0.819642</td>\n",
       "    </tr>\n",
       "    <tr>\n",
       "      <th>4</th>\n",
       "      <td>2000-01-01 00:04:00</td>\n",
       "      <td>channel_41</td>\n",
       "      <td>0.821996</td>\n",
       "    </tr>\n",
       "    <tr>\n",
       "      <th>...</th>\n",
       "      <td>...</td>\n",
       "      <td>...</td>\n",
       "      <td>...</td>\n",
       "    </tr>\n",
       "    <tr>\n",
       "      <th>88369897</th>\n",
       "      <td>2028-01-01 23:52:00</td>\n",
       "      <td>channel_46</td>\n",
       "      <td>0.765296</td>\n",
       "    </tr>\n",
       "    <tr>\n",
       "      <th>88369898</th>\n",
       "      <td>2028-01-01 23:53:00</td>\n",
       "      <td>channel_46</td>\n",
       "      <td>0.767829</td>\n",
       "    </tr>\n",
       "    <tr>\n",
       "      <th>88369899</th>\n",
       "      <td>2028-01-01 23:54:00</td>\n",
       "      <td>channel_46</td>\n",
       "      <td>0.762762</td>\n",
       "    </tr>\n",
       "    <tr>\n",
       "      <th>88369900</th>\n",
       "      <td>2028-01-01 23:55:00</td>\n",
       "      <td>channel_46</td>\n",
       "      <td>0.761918</td>\n",
       "    </tr>\n",
       "    <tr>\n",
       "      <th>88369901</th>\n",
       "      <td>2028-01-01 23:56:00</td>\n",
       "      <td>channel_46</td>\n",
       "      <td>0.752628</td>\n",
       "    </tr>\n",
       "  </tbody>\n",
       "</table>\n",
       "<p>88369902 rows × 3 columns</p>\n",
       "</div>"
      ],
      "text/plain": [
       "                          ds   unique_id         y\n",
       "0        2000-01-01 00:00:00  channel_41  0.812578\n",
       "1        2000-01-01 00:01:00  channel_41  0.812578\n",
       "2        2000-01-01 00:02:00  channel_41  0.821213\n",
       "3        2000-01-01 00:03:00  channel_41  0.819642\n",
       "4        2000-01-01 00:04:00  channel_41  0.821996\n",
       "...                      ...         ...       ...\n",
       "88369897 2028-01-01 23:52:00  channel_46  0.765296\n",
       "88369898 2028-01-01 23:53:00  channel_46  0.767829\n",
       "88369899 2028-01-01 23:54:00  channel_46  0.762762\n",
       "88369900 2028-01-01 23:55:00  channel_46  0.761918\n",
       "88369901 2028-01-01 23:56:00  channel_46  0.752628\n",
       "\n",
       "[88369902 rows x 3 columns]"
      ]
     },
     "execution_count": 7,
     "metadata": {},
     "output_type": "execute_result"
    }
   ],
   "source": [
    "train_df_final"
   ]
  },
  {
   "cell_type": "code",
   "execution_count": 8,
   "id": "106ac355",
   "metadata": {},
   "outputs": [
    {
     "name": "stdout",
     "output_type": "stream",
     "text": [
      "                          ds   unique_id         y\n",
      "0        2000-01-01 00:00:00  channel_41  0.812578\n",
      "1        2000-01-01 00:01:00  channel_41  0.812578\n",
      "2        2000-01-01 00:02:00  channel_41  0.821213\n",
      "3        2000-01-01 00:03:00  channel_41  0.819642\n",
      "4        2000-01-01 00:04:00  channel_41  0.821996\n",
      "...                      ...         ...       ...\n",
      "88369897 2028-01-01 23:52:00  channel_46  0.765296\n",
      "88369898 2028-01-01 23:53:00  channel_46  0.767829\n",
      "88369899 2028-01-01 23:54:00  channel_46  0.762762\n",
      "88369900 2028-01-01 23:55:00  channel_46  0.761918\n",
      "88369901 2028-01-01 23:56:00  channel_46  0.752628\n",
      "\n",
      "[88369902 rows x 3 columns]\n"
     ]
    }
   ],
   "source": [
    "print(train_df_final)"
   ]
  },
  {
   "cell_type": "markdown",
   "id": "1f0e57cd",
   "metadata": {},
   "source": [
    "# Models"
   ]
  },
  {
   "cell_type": "markdown",
   "id": "721a5109",
   "metadata": {},
   "source": [
    "## NHITS"
   ]
  },
  {
   "cell_type": "code",
   "execution_count": 9,
   "id": "5787394f",
   "metadata": {},
   "outputs": [],
   "source": [
    "import pandas as pd\n",
    "from neuralforecast import NeuralForecast\n",
    "from neuralforecast.models import NHITS\n",
    "from neuralforecast.losses.pytorch import DistributionLoss"
   ]
  },
  {
   "cell_type": "code",
   "execution_count": 14,
   "id": "743f5f58",
   "metadata": {},
   "outputs": [
    {
     "data": {
      "text/plain": [
       "(    unique_id         ds      y  trend  y_[lag12]\n",
       " 0    Airline1 1949-01-31  112.0      0      112.0\n",
       " 1    Airline1 1949-02-28  118.0      1      118.0\n",
       " 2    Airline1 1949-03-31  132.0      2      132.0\n",
       " 3    Airline1 1949-04-30  129.0      3      129.0\n",
       " 4    Airline1 1949-05-31  121.0      4      121.0\n",
       " ..        ...        ...    ...    ...        ...\n",
       " 259  Airline2 1959-08-31  859.0    271      805.0\n",
       " 260  Airline2 1959-09-30  763.0    272      704.0\n",
       " 261  Airline2 1959-10-31  707.0    273      659.0\n",
       " 262  Airline2 1959-11-30  662.0    274      610.0\n",
       " 263  Airline2 1959-12-31  705.0    275      637.0\n",
       " \n",
       " [264 rows x 5 columns],\n",
       "    unique_id         ds      y  trend  y_[lag12]\n",
       " 0   Airline1 1960-01-31  417.0    132      360.0\n",
       " 1   Airline1 1960-02-29  391.0    133      342.0\n",
       " 2   Airline1 1960-03-31  419.0    134      406.0\n",
       " 3   Airline1 1960-04-30  461.0    135      396.0\n",
       " 4   Airline1 1960-05-31  472.0    136      420.0\n",
       " 5   Airline1 1960-06-30  535.0    137      472.0\n",
       " 6   Airline1 1960-07-31  622.0    138      548.0\n",
       " 7   Airline1 1960-08-31  606.0    139      559.0\n",
       " 8   Airline1 1960-09-30  508.0    140      463.0\n",
       " 9   Airline1 1960-10-31  461.0    141      407.0\n",
       " 10  Airline1 1960-11-30  390.0    142      362.0\n",
       " 11  Airline1 1960-12-31  432.0    143      405.0\n",
       " 12  Airline2 1960-01-31  717.0    276      660.0\n",
       " 13  Airline2 1960-02-29  691.0    277      642.0\n",
       " 14  Airline2 1960-03-31  719.0    278      706.0\n",
       " 15  Airline2 1960-04-30  761.0    279      696.0\n",
       " 16  Airline2 1960-05-31  772.0    280      720.0\n",
       " 17  Airline2 1960-06-30  835.0    281      772.0\n",
       " 18  Airline2 1960-07-31  922.0    282      848.0\n",
       " 19  Airline2 1960-08-31  906.0    283      859.0\n",
       " 20  Airline2 1960-09-30  808.0    284      763.0\n",
       " 21  Airline2 1960-10-31  761.0    285      707.0\n",
       " 22  Airline2 1960-11-30  690.0    286      662.0\n",
       " 23  Airline2 1960-12-31  732.0    287      705.0)"
      ]
     },
     "execution_count": 14,
     "metadata": {},
     "output_type": "execute_result"
    }
   ],
   "source": [
    "from neuralforecast.utils import AirPassengersPanel, AirPassengersStatic\n",
    "\n",
    "Y_train_df = AirPassengersPanel[AirPassengersPanel.ds<AirPassengersPanel['ds'].values[-12]].reset_index(drop=True) # 132 train\n",
    "Y_test_df = AirPassengersPanel[AirPassengersPanel.ds>=AirPassengersPanel['ds'].values[-12]].reset_index(drop=True) # 12 test\n",
    "Y_train_df , Y_test_df"
   ]
  },
  {
   "cell_type": "code",
   "execution_count": 19,
   "id": "393ff4e6",
   "metadata": {},
   "outputs": [
    {
     "data": {
      "text/plain": [
       "264"
      ]
     },
     "execution_count": 19,
     "metadata": {},
     "output_type": "execute_result"
    }
   ],
   "source": [
    "len(set(Y_train_df[\"trend\"]))"
   ]
  },
  {
   "cell_type": "code",
   "execution_count": 13,
   "id": "14945a93",
   "metadata": {},
   "outputs": [
    {
     "data": {
      "text/html": [
       "<div>\n",
       "<style scoped>\n",
       "    .dataframe tbody tr th:only-of-type {\n",
       "        vertical-align: middle;\n",
       "    }\n",
       "\n",
       "    .dataframe tbody tr th {\n",
       "        vertical-align: top;\n",
       "    }\n",
       "\n",
       "    .dataframe thead th {\n",
       "        text-align: right;\n",
       "    }\n",
       "</style>\n",
       "<table border=\"1\" class=\"dataframe\">\n",
       "  <thead>\n",
       "    <tr style=\"text-align: right;\">\n",
       "      <th></th>\n",
       "      <th>ds</th>\n",
       "      <th>unique_id</th>\n",
       "      <th>y</th>\n",
       "    </tr>\n",
       "  </thead>\n",
       "  <tbody>\n",
       "    <tr>\n",
       "      <th>0</th>\n",
       "      <td>2000-01-01 00:00:00</td>\n",
       "      <td>channel_41</td>\n",
       "      <td>0.812578</td>\n",
       "    </tr>\n",
       "    <tr>\n",
       "      <th>1</th>\n",
       "      <td>2000-01-01 00:01:00</td>\n",
       "      <td>channel_41</td>\n",
       "      <td>0.812578</td>\n",
       "    </tr>\n",
       "    <tr>\n",
       "      <th>2</th>\n",
       "      <td>2000-01-01 00:02:00</td>\n",
       "      <td>channel_41</td>\n",
       "      <td>0.821213</td>\n",
       "    </tr>\n",
       "    <tr>\n",
       "      <th>3</th>\n",
       "      <td>2000-01-01 00:03:00</td>\n",
       "      <td>channel_41</td>\n",
       "      <td>0.819642</td>\n",
       "    </tr>\n",
       "    <tr>\n",
       "      <th>4</th>\n",
       "      <td>2000-01-01 00:04:00</td>\n",
       "      <td>channel_41</td>\n",
       "      <td>0.821996</td>\n",
       "    </tr>\n",
       "    <tr>\n",
       "      <th>...</th>\n",
       "      <td>...</td>\n",
       "      <td>...</td>\n",
       "      <td>...</td>\n",
       "    </tr>\n",
       "    <tr>\n",
       "      <th>88369897</th>\n",
       "      <td>2028-01-01 23:52:00</td>\n",
       "      <td>channel_46</td>\n",
       "      <td>0.765296</td>\n",
       "    </tr>\n",
       "    <tr>\n",
       "      <th>88369898</th>\n",
       "      <td>2028-01-01 23:53:00</td>\n",
       "      <td>channel_46</td>\n",
       "      <td>0.767829</td>\n",
       "    </tr>\n",
       "    <tr>\n",
       "      <th>88369899</th>\n",
       "      <td>2028-01-01 23:54:00</td>\n",
       "      <td>channel_46</td>\n",
       "      <td>0.762762</td>\n",
       "    </tr>\n",
       "    <tr>\n",
       "      <th>88369900</th>\n",
       "      <td>2028-01-01 23:55:00</td>\n",
       "      <td>channel_46</td>\n",
       "      <td>0.761918</td>\n",
       "    </tr>\n",
       "    <tr>\n",
       "      <th>88369901</th>\n",
       "      <td>2028-01-01 23:56:00</td>\n",
       "      <td>channel_46</td>\n",
       "      <td>0.752628</td>\n",
       "    </tr>\n",
       "  </tbody>\n",
       "</table>\n",
       "<p>88369902 rows × 3 columns</p>\n",
       "</div>"
      ],
      "text/plain": [
       "                          ds   unique_id         y\n",
       "0        2000-01-01 00:00:00  channel_41  0.812578\n",
       "1        2000-01-01 00:01:00  channel_41  0.812578\n",
       "2        2000-01-01 00:02:00  channel_41  0.821213\n",
       "3        2000-01-01 00:03:00  channel_41  0.819642\n",
       "4        2000-01-01 00:04:00  channel_41  0.821996\n",
       "...                      ...         ...       ...\n",
       "88369897 2028-01-01 23:52:00  channel_46  0.765296\n",
       "88369898 2028-01-01 23:53:00  channel_46  0.767829\n",
       "88369899 2028-01-01 23:54:00  channel_46  0.762762\n",
       "88369900 2028-01-01 23:55:00  channel_46  0.761918\n",
       "88369901 2028-01-01 23:56:00  channel_46  0.752628\n",
       "\n",
       "[88369902 rows x 3 columns]"
      ]
     },
     "execution_count": 13,
     "metadata": {},
     "output_type": "execute_result"
    }
   ],
   "source": [
    "train_df_final"
   ]
  },
  {
   "cell_type": "code",
   "execution_count": 20,
   "id": "942fb0ca",
   "metadata": {},
   "outputs": [
    {
     "name": "stderr",
     "output_type": "stream",
     "text": [
      "Seed set to 1\n",
      "GPU available: True (cuda), used: True\n",
      "TPU available: False, using: 0 TPU cores\n",
      "HPU available: False, using: 0 HPUs\n",
      "LOCAL_RANK: 0 - CUDA_VISIBLE_DEVICES: [0]\n",
      "\n",
      "  | Name         | Type             | Params | Mode \n",
      "----------------------------------------------------------\n",
      "0 | loss         | DistributionLoss | 5      | train\n",
      "1 | padder_train | ConstantPad1d    | 0      | train\n",
      "2 | scaler       | TemporalNorm     | 0      | train\n",
      "3 | blocks       | ModuleList       | 2.5 M  | train\n",
      "----------------------------------------------------------\n",
      "2.5 M     Trainable params\n",
      "5         Non-trainable params\n",
      "2.5 M     Total params\n",
      "10.046    Total estimated model params size (MB)\n",
      "34        Modules in train mode\n",
      "0         Modules in eval mode\n"
     ]
    },
    {
     "data": {
      "application/vnd.jupyter.widget-view+json": {
       "model_id": "986c0cd739c44c9cbf23c0eb7fd99c6e",
       "version_major": 2,
       "version_minor": 0
      },
      "text/plain": [
       "Sanity Checking: |          | 0/? [00:00<?, ?it/s]"
      ]
     },
     "metadata": {},
     "output_type": "display_data"
    },
    {
     "data": {
      "application/vnd.jupyter.widget-view+json": {
       "model_id": "2d39bfcc3bb04a3f9a430b252dfe0db9",
       "version_major": 2,
       "version_minor": 0
      },
      "text/plain": [
       "Training: |          | 0/? [00:00<?, ?it/s]"
      ]
     },
     "metadata": {},
     "output_type": "display_data"
    },
    {
     "data": {
      "application/vnd.jupyter.widget-view+json": {
       "model_id": "42d5fd06f472459fb2a8fb1e440d9555",
       "version_major": 2,
       "version_minor": 0
      },
      "text/plain": [
       "Validation: |          | 0/? [00:00<?, ?it/s]"
      ]
     },
     "metadata": {},
     "output_type": "display_data"
    },
    {
     "data": {
      "application/vnd.jupyter.widget-view+json": {
       "model_id": "e83c57c7e2ad47f1a28f446f733891b5",
       "version_major": 2,
       "version_minor": 0
      },
      "text/plain": [
       "Validation: |          | 0/? [00:00<?, ?it/s]"
      ]
     },
     "metadata": {},
     "output_type": "display_data"
    },
    {
     "data": {
      "application/vnd.jupyter.widget-view+json": {
       "model_id": "e4ecd2017e394974ae782da1414beb8b",
       "version_major": 2,
       "version_minor": 0
      },
      "text/plain": [
       "Validation: |          | 0/? [00:00<?, ?it/s]"
      ]
     },
     "metadata": {},
     "output_type": "display_data"
    },
    {
     "data": {
      "application/vnd.jupyter.widget-view+json": {
       "model_id": "e282096b10c64c4db7e1537db19a1244",
       "version_major": 2,
       "version_minor": 0
      },
      "text/plain": [
       "Validation: |          | 0/? [00:00<?, ?it/s]"
      ]
     },
     "metadata": {},
     "output_type": "display_data"
    },
    {
     "data": {
      "application/vnd.jupyter.widget-view+json": {
       "model_id": "ede7966704784c21b7a3ad288f4ff5e2",
       "version_major": 2,
       "version_minor": 0
      },
      "text/plain": [
       "Validation: |          | 0/? [00:00<?, ?it/s]"
      ]
     },
     "metadata": {},
     "output_type": "display_data"
    },
    {
     "name": "stderr",
     "output_type": "stream",
     "text": [
      "Trainer already configured with model summary callbacks: [<class 'pytorch_lightning.callbacks.model_summary.ModelSummary'>]. Skipping setting a default `ModelSummary` callback.\n",
      "GPU available: True (cuda), used: True\n",
      "TPU available: False, using: 0 TPU cores\n",
      "HPU available: False, using: 0 HPUs\n",
      "LOCAL_RANK: 0 - CUDA_VISIBLE_DEVICES: [0]\n"
     ]
    },
    {
     "data": {
      "application/vnd.jupyter.widget-view+json": {
       "model_id": "0424fcb154e449fbbf810d4652a6d7ba",
       "version_major": 2,
       "version_minor": 0
      },
      "text/plain": [
       "Predicting: |          | 0/? [00:00<?, ?it/s]"
      ]
     },
     "metadata": {},
     "output_type": "display_data"
    }
   ],
   "source": [
    "model = NHITS(h=12,\n",
    "              input_size=24,\n",
    "              loss=DistributionLoss(distribution='StudentT', level=[80, 90], return_params=True),\n",
    "              stat_exog_list=['airline1'],\n",
    "              futr_exog_list=['trend'],\n",
    "              n_freq_downsample=[2, 1, 1],\n",
    "              scaler_type='robust',\n",
    "              max_steps=200,\n",
    "              early_stop_patience_steps=2,\n",
    "              inference_windows_batch_size=1,\n",
    "              val_check_steps=10,\n",
    "              learning_rate=1e-3)\n",
    "\n",
    "fcst = NeuralForecast(models=[model], freq='ME')\n",
    "fcst.fit(df=Y_train_df, static_df=AirPassengersStatic, val_size=12)\n",
    "forecasts = fcst.predict(futr_df=Y_test_df)"
   ]
  },
  {
   "cell_type": "code",
   "execution_count": null,
   "id": "74b8814f",
   "metadata": {},
   "outputs": [
    {
     "data": {
      "text/plain": [
       "[]"
      ]
     },
     "execution_count": 21,
     "metadata": {},
     "output_type": "execute_result"
    },
    {
     "data": {
      "image/png": "[encoded data removed]",
      "text/plain": [
       "<Figure size 640x480 with 1 Axes>"
      ]
     },
     "metadata": {},
     "output_type": "display_data"
    },
    {
     "ename": "",
     "evalue": "",
     "output_type": "error",
     "traceback": [
      "\u001b[1;31mThe Kernel crashed while executing code in the current cell or a previous cell. \n",
      "\u001b[1;31mPlease review the code in the cell(s) to identify a possible cause of the failure. \n",
      "\u001b[1;31mClick <a href='https://aka.ms/vscodeJupyterKernelCrash'>here</a> for more info. \n",
      "\u001b[1;31mView Jupyter <a href='command:jupyter.viewOutput'>log</a> for further details."
     ]
    }
   ],
   "source": [
    "# Plot quantile predictions\n",
    "Y_hat_df = forecasts.reset_index(drop=False).drop(columns=['unique_id','ds'])\n",
    "plot_df = pd.concat([Y_test_df, Y_hat_df], axis=1)\n",
    "plot_df = pd.concat([Y_train_df, plot_df])\n",
    "\n",
    "plot_df = plot_df[plot_df.unique_id=='Airline1'].drop('unique_id', axis=1)\n",
    "plt.plot(plot_df['ds'], plot_df['y'], c='black', label='True')\n",
    "plt.plot(plot_df['ds'], plot_df['NHITS-median'], c='blue', label='median')\n",
    "plt.fill_between(x=plot_df['ds'][-12:], \n",
    "                 y1=plot_df['NHITS-lo-90'][-12:].values, \n",
    "                 y2=plot_df['NHITS-hi-90'][-12:].values,\n",
    "                 alpha=0.4, label='level 90')\n",
    "plt.legend()\n",
    "plt.grid()\n",
    "plt.plot()"
   ]
  },
  {
   "cell_type": "code",
   "execution_count": null,
   "id": "d192dc64",
   "metadata": {},
   "outputs": [
    {
     "name": "stderr",
     "output_type": "stream",
     "text": [
      "Seed set to 1\n"
     ]
    },
    {
     "ename": "NameError",
     "evalue": "name 'train' is not defined",
     "output_type": "error",
     "traceback": [
      "\u001b[0;31m---------------------------------------------------------------------------\u001b[0m",
      "\u001b[0;31mNameError\u001b[0m                                 Traceback (most recent call last)",
      "Cell \u001b[0;32mIn[10], line 16\u001b[0m\n\u001b[1;32m     14\u001b[0m \u001b[38;5;66;03m# === 6. Entrenamiento ===\u001b[39;00m\n\u001b[1;32m     15\u001b[0m fcst \u001b[38;5;241m=\u001b[39m NeuralForecast(models\u001b[38;5;241m=\u001b[39m[model], freq\u001b[38;5;241m=\u001b[39m\u001b[38;5;124m'\u001b[39m\u001b[38;5;124mmin\u001b[39m\u001b[38;5;124m'\u001b[39m)  \u001b[38;5;66;03m# 'D' como etiqueta simbólica de frecuencia\u001b[39;00m\n\u001b[0;32m---> 16\u001b[0m fcst\u001b[38;5;241m.\u001b[39mfit(df\u001b[38;5;241m=\u001b[39m\u001b[43mtrain\u001b[49m, val_size\u001b[38;5;241m=\u001b[39mh, verbose\u001b[38;5;241m=\u001b[39m\u001b[38;5;241m1\u001b[39m)\n",
      "\u001b[0;31mNameError\u001b[0m: name 'train' is not defined"
     ]
    }
   ],
   "source": [
    "model = NHITS(\n",
    "    h=h,\n",
    "    input_size=input_size,\n",
    "    loss=DistributionLoss(distribution='StudentT', level=[80, 90], return_params=True),\n",
    "    n_freq_downsample=[2, 1, 1],\n",
    "    scaler_type='robust',\n",
    "    max_steps=200,\n",
    "    early_stop_patience_steps=10,\n",
    "    inference_windows_batch_size=1,\n",
    "    val_check_steps=10,\n",
    "    learning_rate=1e-3\n",
    ")\n",
    "\n",
    "# === 6. Entrenamiento ===\n",
    "fcst = NeuralForecast(models=[model], freq='min')  # 'D' como etiqueta simbólica de frecuencia\n",
    "fcst.fit(df=train_df_final, val_size=h, verbose=1)"
   ]
  },
  {
   "cell_type": "markdown",
   "id": "64405cfa",
   "metadata": {},
   "source": [
    "## Prophet"
   ]
  },
  {
   "cell_type": "code",
   "execution_count": null,
   "id": "5357c04b",
   "metadata": {},
   "outputs": [],
   "source": [
    "train = train_df_final.drop(columns=['unique_id'])"
   ]
  },
  {
   "cell_type": "markdown",
   "id": "9a4b1c8c",
   "metadata": {},
   "source": [
    "## New test"
   ]
  },
  {
   "cell_type": "code",
   "execution_count": null,
   "id": "41a49cf4",
   "metadata": {},
   "outputs": [],
   "source": [
    "test_filtered_df = test_df[['id'] + target_channels]\n",
    "\n",
    "test_long = test_filtered_df.melt(id_vars=['id'], var_name='unique_id', value_name='y')\n",
    "test_long.rename(columns={'id': 'ds'}, inplace=True)\n",
    "\n",
    "test_long['ds'] = pd.to_timedelta(test_long['ds'] - test_long['ds'].min(), unit='m') + pd.Timestamp(\"2000-01-01\")\n",
    "\n",
    "test_long.head(10)"
   ]
  },
  {
   "cell_type": "code",
   "execution_count": null,
   "id": "97ad7b83",
   "metadata": {},
   "outputs": [],
   "source": [
    "# === 3. Predecir con el modelo entrenado ===\n",
    "forecast_df = fcst.predict(futr_df=test_long)  # usa el forecast hecho antes\n",
    "\n",
    "# === 4. Unir predicción y test real ===\n",
    "merged = test_long.merge(forecast_df.reset_index(), on=['ds', 'unique_id'])\n",
    "\n",
    "# === 5. Marcar anomalías: fuera del intervalo de confianza (lo_90, hi_90)\n",
    "merged['is_anomaly'] = (\n",
    "    (merged['y'] < merged['NHITS-lo-90']) | \n",
    "    (merged['y'] > merged['NHITS-hi-90'])\n",
    ").astype(int)\n",
    "\n",
    "# === 6. Agregar por ID: si al menos un canal es anómalo, marcar como anomalía\n",
    "submission = merged.groupby('ds')['is_anomaly'].max().reset_index()\n",
    "submission.rename(columns={'ds': 'id'}, inplace=True)\n",
    "\n",
    "# === 7. Guardar en CSV\n",
    "submission.to_csv('submission_NHITS.csv', index=False)"
   ]
  },
  {
   "cell_type": "markdown",
   "id": "a2e9d7ea",
   "metadata": {},
   "source": [
    "## LSTM Autoencoder"
   ]
  },
  {
   "cell_type": "code",
   "execution_count": 4,
   "id": "999fb167",
   "metadata": {},
   "outputs": [
    {
     "name": "stderr",
     "output_type": "stream",
     "text": [
      "I0000 00:00:1746262047.637015    5114 gpu_device.cc:2019] Created device /job:localhost/replica:0/task:0/device:GPU:0 with 4047 MB memory:  -> device: 0, name: NVIDIA GeForce RTX 2060, pci bus id: 0000:2d:00.0, compute capability: 7.5\n"
     ]
    },
    {
     "data": {
      "text/html": [
       "<pre style=\"white-space:pre;overflow-x:auto;line-height:normal;font-family:Menlo,'DejaVu Sans Mono',consolas,'Courier New',monospace\"><span style=\"font-weight: bold\">Model: \"functional\"</span>\n",
       "</pre>\n"
      ],
      "text/plain": [
       "\u001b[1mModel: \"functional\"\u001b[0m\n"
      ]
     },
     "metadata": {},
     "output_type": "display_data"
    },
    {
     "data": {
      "text/html": [
       "<pre style=\"white-space:pre;overflow-x:auto;line-height:normal;font-family:Menlo,'DejaVu Sans Mono',consolas,'Courier New',monospace\">┏━━━━━━━━━━━━━━━━━━━━━━━━━━━━━━━━━┳━━━━━━━━━━━━━━━━━━━━━━━━┳━━━━━━━━━━━━━━━┓\n",
       "┃<span style=\"font-weight: bold\"> Layer (type)                    </span>┃<span style=\"font-weight: bold\"> Output Shape           </span>┃<span style=\"font-weight: bold\">       Param # </span>┃\n",
       "┡━━━━━━━━━━━━━━━━━━━━━━━━━━━━━━━━━╇━━━━━━━━━━━━━━━━━━━━━━━━╇━━━━━━━━━━━━━━━┩\n",
       "│ input_layer (<span style=\"color: #0087ff; text-decoration-color: #0087ff\">InputLayer</span>)        │ (<span style=\"color: #00d7ff; text-decoration-color: #00d7ff\">None</span>, <span style=\"color: #00af00; text-decoration-color: #00af00\">5</span>, <span style=\"color: #00af00; text-decoration-color: #00af00\">6</span>)           │             <span style=\"color: #00af00; text-decoration-color: #00af00\">0</span> │\n",
       "├─────────────────────────────────┼────────────────────────┼───────────────┤\n",
       "│ lstm (<span style=\"color: #0087ff; text-decoration-color: #0087ff\">LSTM</span>)                     │ (<span style=\"color: #00d7ff; text-decoration-color: #00d7ff\">None</span>, <span style=\"color: #00af00; text-decoration-color: #00af00\">64</span>)             │        <span style=\"color: #00af00; text-decoration-color: #00af00\">18,176</span> │\n",
       "├─────────────────────────────────┼────────────────────────┼───────────────┤\n",
       "│ repeat_vector (<span style=\"color: #0087ff; text-decoration-color: #0087ff\">RepeatVector</span>)    │ (<span style=\"color: #00d7ff; text-decoration-color: #00d7ff\">None</span>, <span style=\"color: #00af00; text-decoration-color: #00af00\">5</span>, <span style=\"color: #00af00; text-decoration-color: #00af00\">64</span>)          │             <span style=\"color: #00af00; text-decoration-color: #00af00\">0</span> │\n",
       "├─────────────────────────────────┼────────────────────────┼───────────────┤\n",
       "│ lstm_1 (<span style=\"color: #0087ff; text-decoration-color: #0087ff\">LSTM</span>)                   │ (<span style=\"color: #00d7ff; text-decoration-color: #00d7ff\">None</span>, <span style=\"color: #00af00; text-decoration-color: #00af00\">5</span>, <span style=\"color: #00af00; text-decoration-color: #00af00\">64</span>)          │        <span style=\"color: #00af00; text-decoration-color: #00af00\">33,024</span> │\n",
       "├─────────────────────────────────┼────────────────────────┼───────────────┤\n",
       "│ time_distributed                │ (<span style=\"color: #00d7ff; text-decoration-color: #00d7ff\">None</span>, <span style=\"color: #00af00; text-decoration-color: #00af00\">5</span>, <span style=\"color: #00af00; text-decoration-color: #00af00\">6</span>)           │           <span style=\"color: #00af00; text-decoration-color: #00af00\">390</span> │\n",
       "│ (<span style=\"color: #0087ff; text-decoration-color: #0087ff\">TimeDistributed</span>)               │                        │               │\n",
       "└─────────────────────────────────┴────────────────────────┴───────────────┘\n",
       "</pre>\n"
      ],
      "text/plain": [
       "┏━━━━━━━━━━━━━━━━━━━━━━━━━━━━━━━━━┳━━━━━━━━━━━━━━━━━━━━━━━━┳━━━━━━━━━━━━━━━┓\n",
       "┃\u001b[1m \u001b[0m\u001b[1mLayer (type)                   \u001b[0m\u001b[1m \u001b[0m┃\u001b[1m \u001b[0m\u001b[1mOutput Shape          \u001b[0m\u001b[1m \u001b[0m┃\u001b[1m \u001b[0m\u001b[1m      Param #\u001b[0m\u001b[1m \u001b[0m┃\n",
       "┡━━━━━━━━━━━━━━━━━━━━━━━━━━━━━━━━━╇━━━━━━━━━━━━━━━━━━━━━━━━╇━━━━━━━━━━━━━━━┩\n",
       "│ input_layer (\u001b[38;5;33mInputLayer\u001b[0m)        │ (\u001b[38;5;45mNone\u001b[0m, \u001b[38;5;34m5\u001b[0m, \u001b[38;5;34m6\u001b[0m)           │             \u001b[38;5;34m0\u001b[0m │\n",
       "├─────────────────────────────────┼────────────────────────┼───────────────┤\n",
       "│ lstm (\u001b[38;5;33mLSTM\u001b[0m)                     │ (\u001b[38;5;45mNone\u001b[0m, \u001b[38;5;34m64\u001b[0m)             │        \u001b[38;5;34m18,176\u001b[0m │\n",
       "├─────────────────────────────────┼────────────────────────┼───────────────┤\n",
       "│ repeat_vector (\u001b[38;5;33mRepeatVector\u001b[0m)    │ (\u001b[38;5;45mNone\u001b[0m, \u001b[38;5;34m5\u001b[0m, \u001b[38;5;34m64\u001b[0m)          │             \u001b[38;5;34m0\u001b[0m │\n",
       "├─────────────────────────────────┼────────────────────────┼───────────────┤\n",
       "│ lstm_1 (\u001b[38;5;33mLSTM\u001b[0m)                   │ (\u001b[38;5;45mNone\u001b[0m, \u001b[38;5;34m5\u001b[0m, \u001b[38;5;34m64\u001b[0m)          │        \u001b[38;5;34m33,024\u001b[0m │\n",
       "├─────────────────────────────────┼────────────────────────┼───────────────┤\n",
       "│ time_distributed                │ (\u001b[38;5;45mNone\u001b[0m, \u001b[38;5;34m5\u001b[0m, \u001b[38;5;34m6\u001b[0m)           │           \u001b[38;5;34m390\u001b[0m │\n",
       "│ (\u001b[38;5;33mTimeDistributed\u001b[0m)               │                        │               │\n",
       "└─────────────────────────────────┴────────────────────────┴───────────────┘\n"
      ]
     },
     "metadata": {},
     "output_type": "display_data"
    },
    {
     "data": {
      "text/html": [
       "<pre style=\"white-space:pre;overflow-x:auto;line-height:normal;font-family:Menlo,'DejaVu Sans Mono',consolas,'Courier New',monospace\"><span style=\"font-weight: bold\"> Total params: </span><span style=\"color: #00af00; text-decoration-color: #00af00\">51,590</span> (201.52 KB)\n",
       "</pre>\n"
      ],
      "text/plain": [
       "\u001b[1m Total params: \u001b[0m\u001b[38;5;34m51,590\u001b[0m (201.52 KB)\n"
      ]
     },
     "metadata": {},
     "output_type": "display_data"
    },
    {
     "data": {
      "text/html": [
       "<pre style=\"white-space:pre;overflow-x:auto;line-height:normal;font-family:Menlo,'DejaVu Sans Mono',consolas,'Courier New',monospace\"><span style=\"font-weight: bold\"> Trainable params: </span><span style=\"color: #00af00; text-decoration-color: #00af00\">51,590</span> (201.52 KB)\n",
       "</pre>\n"
      ],
      "text/plain": [
       "\u001b[1m Trainable params: \u001b[0m\u001b[38;5;34m51,590\u001b[0m (201.52 KB)\n"
      ]
     },
     "metadata": {},
     "output_type": "display_data"
    },
    {
     "data": {
      "text/html": [
       "<pre style=\"white-space:pre;overflow-x:auto;line-height:normal;font-family:Menlo,'DejaVu Sans Mono',consolas,'Courier New',monospace\"><span style=\"font-weight: bold\"> Non-trainable params: </span><span style=\"color: #00af00; text-decoration-color: #00af00\">0</span> (0.00 B)\n",
       "</pre>\n"
      ],
      "text/plain": [
       "\u001b[1m Non-trainable params: \u001b[0m\u001b[38;5;34m0\u001b[0m (0.00 B)\n"
      ]
     },
     "metadata": {},
     "output_type": "display_data"
    }
   ],
   "source": [
    "from tensorflow.keras.layers import LSTM, RepeatVector, TimeDistributed\n",
    "from tensorflow.keras.regularizers import l2\n",
    "\n",
    "timesteps = 5  # ventana temporal\n",
    "input_dim = X_train.shape[1]\n",
    "\n",
    "# Preprocesar para secuencia\n",
    "def create_sequences(data, timesteps):\n",
    "    return np.array([data[i:i+timesteps] for i in range(len(data)-timesteps)])\n",
    "\n",
    "X_train_seq = create_sequences(X_train, timesteps)\n",
    "X_test_seq = create_sequences(X_test, timesteps)\n",
    "\n",
    "# Regularización\n",
    "l2_reg = l2(0.001)  # Puedes ajustar este valor\n",
    "\n",
    "inputs = Input(shape=(timesteps, input_dim))\n",
    "\n",
    "# LSTM codificador con regularización\n",
    "encoded = LSTM(64, \n",
    "               return_sequences=False, \n",
    "               dropout=0.2, \n",
    "               recurrent_dropout=0.2,\n",
    "               kernel_regularizer=l2_reg)(inputs)\n",
    "\n",
    "# Repeat\n",
    "decoded = RepeatVector(timesteps)(encoded)\n",
    "\n",
    "# LSTM decodificador con regularización\n",
    "decoded = LSTM(64, \n",
    "               return_sequences=True, \n",
    "               dropout=0.2, \n",
    "               recurrent_dropout=0.2,\n",
    "               kernel_regularizer=l2_reg)(decoded)\n",
    "\n",
    "# Salida con regularización en Dense\n",
    "outputs = TimeDistributed(Dense(input_dim, kernel_regularizer=l2_reg))(decoded)\n",
    "\n",
    "# Modelo\n",
    "model = Model(inputs, outputs)\n",
    "model.compile(optimizer='adam', loss='mse')\n",
    "model.summary()\n"
   ]
  },
  {
   "cell_type": "code",
   "execution_count": 5,
   "id": "b577537e",
   "metadata": {},
   "outputs": [
    {
     "name": "stderr",
     "output_type": "stream",
     "text": [
      "2025-05-03 10:47:29.139364: W external/local_xla/xla/tsl/framework/cpu_allocator_impl.cc:83] Allocation of 1582105440 exceeds 10% of free system memory.\n",
      "2025-05-03 10:47:30.432748: W external/local_xla/xla/tsl/framework/cpu_allocator_impl.cc:83] Allocation of 1582105440 exceeds 10% of free system memory.\n",
      "2025-05-03 10:47:31.517668: W external/local_xla/xla/tsl/framework/cpu_allocator_impl.cc:83] Allocation of 1582105440 exceeds 10% of free system memory.\n",
      "2025-05-03 10:47:31.914349: W external/local_xla/xla/tsl/framework/cpu_allocator_impl.cc:83] Allocation of 1582105440 exceeds 10% of free system memory.\n"
     ]
    },
    {
     "name": "stdout",
     "output_type": "stream",
     "text": [
      "Epoch 1/2\n",
      "\u001b[1m12876/12876\u001b[0m \u001b[32m━━━━━━━━━━━━━━━━━━━━\u001b[0m\u001b[37m\u001b[0m \u001b[1m1282s\u001b[0m 99ms/step - loss: 0.1693\n",
      "Epoch 2/2\n",
      "\u001b[1m12876/12876\u001b[0m \u001b[32m━━━━━━━━━━━━━━━━━━━━\u001b[0m\u001b[37m\u001b[0m \u001b[1m1310s\u001b[0m 102ms/step - loss: 0.1083\n"
     ]
    },
    {
     "data": {
      "text/plain": [
       "<keras.src.callbacks.history.History at 0x7f73bfb9e620>"
      ]
     },
     "execution_count": 5,
     "metadata": {},
     "output_type": "execute_result"
    }
   ],
   "source": [
    "model.fit(X_train_seq, X_train_seq, epochs=2, batch_size=1024, shuffle=True, verbose=1)"
   ]
  },
  {
   "cell_type": "code",
   "execution_count": 8,
   "id": "6e46296c",
   "metadata": {},
   "outputs": [
    {
     "name": "stdout",
     "output_type": "stream",
     "text": [
      "\u001b[1m510/510\u001b[0m \u001b[32m━━━━━━━━━━━━━━━━━━━━\u001b[0m\u001b[37m\u001b[0m \u001b[1m7s\u001b[0m 15ms/step\n"
     ]
    }
   ],
   "source": [
    "X_test_seq_reconstructed = model.predict(X_test_seq, batch_size=1024)\n",
    "per_channel_error_seq = np.abs(X_test_seq - X_test_seq_reconstructed)\n",
    "z_scores_seq = (per_channel_error_seq - per_channel_error_seq.mean(axis=0)) / (per_channel_error_seq.std(axis=0) + 1e-8)\n",
    "aggregated_scores = z_scores_seq.max(axis=2).mean(axis=1)"
   ]
  },
  {
   "cell_type": "markdown",
   "id": "49098641",
   "metadata": {},
   "source": [
    "## BLSTM Autoencoder"
   ]
  },
  {
   "cell_type": "code",
   "execution_count": 5,
   "id": "845b87ba",
   "metadata": {},
   "outputs": [
    {
     "name": "stderr",
     "output_type": "stream",
     "text": [
      "I0000 00:00:1746340386.743767    4011 gpu_device.cc:2019] Created device /job:localhost/replica:0/task:0/device:GPU:0 with 4047 MB memory:  -> device: 0, name: NVIDIA GeForce RTX 2060, pci bus id: 0000:2d:00.0, compute capability: 7.5\n"
     ]
    },
    {
     "data": {
      "text/html": [
       "<pre style=\"white-space:pre;overflow-x:auto;line-height:normal;font-family:Menlo,'DejaVu Sans Mono',consolas,'Courier New',monospace\"><span style=\"font-weight: bold\">Model: \"functional\"</span>\n",
       "</pre>\n"
      ],
      "text/plain": [
       "\u001b[1mModel: \"functional\"\u001b[0m\n"
      ]
     },
     "metadata": {},
     "output_type": "display_data"
    },
    {
     "data": {
      "text/html": [
       "<pre style=\"white-space:pre;overflow-x:auto;line-height:normal;font-family:Menlo,'DejaVu Sans Mono',consolas,'Courier New',monospace\">┏━━━━━━━━━━━━━━━━━━━━━━━━━━━━━━━━━┳━━━━━━━━━━━━━━━━━━━━━━━━┳━━━━━━━━━━━━━━━┓\n",
       "┃<span style=\"font-weight: bold\"> Layer (type)                    </span>┃<span style=\"font-weight: bold\"> Output Shape           </span>┃<span style=\"font-weight: bold\">       Param # </span>┃\n",
       "┡━━━━━━━━━━━━━━━━━━━━━━━━━━━━━━━━━╇━━━━━━━━━━━━━━━━━━━━━━━━╇━━━━━━━━━━━━━━━┩\n",
       "│ input_layer (<span style=\"color: #0087ff; text-decoration-color: #0087ff\">InputLayer</span>)        │ (<span style=\"color: #00d7ff; text-decoration-color: #00d7ff\">None</span>, <span style=\"color: #00af00; text-decoration-color: #00af00\">5</span>, <span style=\"color: #00af00; text-decoration-color: #00af00\">6</span>)           │             <span style=\"color: #00af00; text-decoration-color: #00af00\">0</span> │\n",
       "├─────────────────────────────────┼────────────────────────┼───────────────┤\n",
       "│ bidirectional (<span style=\"color: #0087ff; text-decoration-color: #0087ff\">Bidirectional</span>)   │ (<span style=\"color: #00d7ff; text-decoration-color: #00d7ff\">None</span>, <span style=\"color: #00af00; text-decoration-color: #00af00\">128</span>)            │        <span style=\"color: #00af00; text-decoration-color: #00af00\">36,352</span> │\n",
       "├─────────────────────────────────┼────────────────────────┼───────────────┤\n",
       "│ repeat_vector (<span style=\"color: #0087ff; text-decoration-color: #0087ff\">RepeatVector</span>)    │ (<span style=\"color: #00d7ff; text-decoration-color: #00d7ff\">None</span>, <span style=\"color: #00af00; text-decoration-color: #00af00\">5</span>, <span style=\"color: #00af00; text-decoration-color: #00af00\">128</span>)         │             <span style=\"color: #00af00; text-decoration-color: #00af00\">0</span> │\n",
       "├─────────────────────────────────┼────────────────────────┼───────────────┤\n",
       "│ bidirectional_1 (<span style=\"color: #0087ff; text-decoration-color: #0087ff\">Bidirectional</span>) │ (<span style=\"color: #00d7ff; text-decoration-color: #00d7ff\">None</span>, <span style=\"color: #00af00; text-decoration-color: #00af00\">5</span>, <span style=\"color: #00af00; text-decoration-color: #00af00\">128</span>)         │        <span style=\"color: #00af00; text-decoration-color: #00af00\">98,816</span> │\n",
       "├─────────────────────────────────┼────────────────────────┼───────────────┤\n",
       "│ time_distributed                │ (<span style=\"color: #00d7ff; text-decoration-color: #00d7ff\">None</span>, <span style=\"color: #00af00; text-decoration-color: #00af00\">5</span>, <span style=\"color: #00af00; text-decoration-color: #00af00\">6</span>)           │           <span style=\"color: #00af00; text-decoration-color: #00af00\">774</span> │\n",
       "│ (<span style=\"color: #0087ff; text-decoration-color: #0087ff\">TimeDistributed</span>)               │                        │               │\n",
       "└─────────────────────────────────┴────────────────────────┴───────────────┘\n",
       "</pre>\n"
      ],
      "text/plain": [
       "┏━━━━━━━━━━━━━━━━━━━━━━━━━━━━━━━━━┳━━━━━━━━━━━━━━━━━━━━━━━━┳━━━━━━━━━━━━━━━┓\n",
       "┃\u001b[1m \u001b[0m\u001b[1mLayer (type)                   \u001b[0m\u001b[1m \u001b[0m┃\u001b[1m \u001b[0m\u001b[1mOutput Shape          \u001b[0m\u001b[1m \u001b[0m┃\u001b[1m \u001b[0m\u001b[1m      Param #\u001b[0m\u001b[1m \u001b[0m┃\n",
       "┡━━━━━━━━━━━━━━━━━━━━━━━━━━━━━━━━━╇━━━━━━━━━━━━━━━━━━━━━━━━╇━━━━━━━━━━━━━━━┩\n",
       "│ input_layer (\u001b[38;5;33mInputLayer\u001b[0m)        │ (\u001b[38;5;45mNone\u001b[0m, \u001b[38;5;34m5\u001b[0m, \u001b[38;5;34m6\u001b[0m)           │             \u001b[38;5;34m0\u001b[0m │\n",
       "├─────────────────────────────────┼────────────────────────┼───────────────┤\n",
       "│ bidirectional (\u001b[38;5;33mBidirectional\u001b[0m)   │ (\u001b[38;5;45mNone\u001b[0m, \u001b[38;5;34m128\u001b[0m)            │        \u001b[38;5;34m36,352\u001b[0m │\n",
       "├─────────────────────────────────┼────────────────────────┼───────────────┤\n",
       "│ repeat_vector (\u001b[38;5;33mRepeatVector\u001b[0m)    │ (\u001b[38;5;45mNone\u001b[0m, \u001b[38;5;34m5\u001b[0m, \u001b[38;5;34m128\u001b[0m)         │             \u001b[38;5;34m0\u001b[0m │\n",
       "├─────────────────────────────────┼────────────────────────┼───────────────┤\n",
       "│ bidirectional_1 (\u001b[38;5;33mBidirectional\u001b[0m) │ (\u001b[38;5;45mNone\u001b[0m, \u001b[38;5;34m5\u001b[0m, \u001b[38;5;34m128\u001b[0m)         │        \u001b[38;5;34m98,816\u001b[0m │\n",
       "├─────────────────────────────────┼────────────────────────┼───────────────┤\n",
       "│ time_distributed                │ (\u001b[38;5;45mNone\u001b[0m, \u001b[38;5;34m5\u001b[0m, \u001b[38;5;34m6\u001b[0m)           │           \u001b[38;5;34m774\u001b[0m │\n",
       "│ (\u001b[38;5;33mTimeDistributed\u001b[0m)               │                        │               │\n",
       "└─────────────────────────────────┴────────────────────────┴───────────────┘\n"
      ]
     },
     "metadata": {},
     "output_type": "display_data"
    },
    {
     "data": {
      "text/html": [
       "<pre style=\"white-space:pre;overflow-x:auto;line-height:normal;font-family:Menlo,'DejaVu Sans Mono',consolas,'Courier New',monospace\"><span style=\"font-weight: bold\"> Total params: </span><span style=\"color: #00af00; text-decoration-color: #00af00\">135,942</span> (531.02 KB)\n",
       "</pre>\n"
      ],
      "text/plain": [
       "\u001b[1m Total params: \u001b[0m\u001b[38;5;34m135,942\u001b[0m (531.02 KB)\n"
      ]
     },
     "metadata": {},
     "output_type": "display_data"
    },
    {
     "data": {
      "text/html": [
       "<pre style=\"white-space:pre;overflow-x:auto;line-height:normal;font-family:Menlo,'DejaVu Sans Mono',consolas,'Courier New',monospace\"><span style=\"font-weight: bold\"> Trainable params: </span><span style=\"color: #00af00; text-decoration-color: #00af00\">135,942</span> (531.02 KB)\n",
       "</pre>\n"
      ],
      "text/plain": [
       "\u001b[1m Trainable params: \u001b[0m\u001b[38;5;34m135,942\u001b[0m (531.02 KB)\n"
      ]
     },
     "metadata": {},
     "output_type": "display_data"
    },
    {
     "data": {
      "text/html": [
       "<pre style=\"white-space:pre;overflow-x:auto;line-height:normal;font-family:Menlo,'DejaVu Sans Mono',consolas,'Courier New',monospace\"><span style=\"font-weight: bold\"> Non-trainable params: </span><span style=\"color: #00af00; text-decoration-color: #00af00\">0</span> (0.00 B)\n",
       "</pre>\n"
      ],
      "text/plain": [
       "\u001b[1m Non-trainable params: \u001b[0m\u001b[38;5;34m0\u001b[0m (0.00 B)\n"
      ]
     },
     "metadata": {},
     "output_type": "display_data"
    }
   ],
   "source": [
    "from tensorflow.keras.layers import LSTM, RepeatVector, TimeDistributed, Dense, Input, Bidirectional\n",
    "from tensorflow.keras.regularizers import l2\n",
    "from tensorflow.keras.models import Model\n",
    "\n",
    "timesteps = 5\n",
    "input_dim = X_train.shape[1]\n",
    "\n",
    "# Preprocesar para secuencia\n",
    "def create_sequences(data, timesteps):\n",
    "    return np.array([data[i:i+timesteps] for i in range(len(data)-timesteps)])\n",
    "\n",
    "X_train_seq = create_sequences(X_train, timesteps)\n",
    "X_test_seq = create_sequences(X_test, timesteps)\n",
    "\n",
    "# Regularización L2\n",
    "l2_reg = l2(0.001)\n",
    "\n",
    "inputs = Input(shape=(timesteps, input_dim))\n",
    "\n",
    "# Codificador bidireccional\n",
    "encoded = Bidirectional(LSTM(64, \n",
    "                             return_sequences=False,\n",
    "                             dropout=0.2,\n",
    "                             recurrent_dropout=0.2,\n",
    "                             kernel_regularizer=l2_reg))(inputs)\n",
    "\n",
    "# Repetimos la codificación para cada timestep\n",
    "decoded = RepeatVector(timesteps)(encoded)\n",
    "\n",
    "# Decodificador bidireccional\n",
    "decoded = Bidirectional(LSTM(64,\n",
    "                             return_sequences=True,\n",
    "                             dropout=0.2,\n",
    "                             recurrent_dropout=0.2,\n",
    "                             kernel_regularizer=l2_reg))(decoded)\n",
    "\n",
    "# Salida TimeDistributed\n",
    "outputs = TimeDistributed(Dense(input_dim, kernel_regularizer=l2_reg))(decoded)\n",
    "\n",
    "# Modelo\n",
    "model = Model(inputs, outputs)\n",
    "model.compile(optimizer='adam', loss='mse')\n",
    "model.summary()"
   ]
  },
  {
   "cell_type": "code",
   "execution_count": 6,
   "id": "8ffe7e31",
   "metadata": {},
   "outputs": [
    {
     "name": "stderr",
     "output_type": "stream",
     "text": [
      "2025-05-04 08:33:08.507060: W external/local_xla/xla/tsl/framework/cpu_allocator_impl.cc:83] Allocation of 1582105440 exceeds 10% of free system memory.\n",
      "2025-05-04 08:33:09.691133: W external/local_xla/xla/tsl/framework/cpu_allocator_impl.cc:83] Allocation of 1582105440 exceeds 10% of free system memory.\n",
      "2025-05-04 08:33:10.945088: W external/local_xla/xla/tsl/framework/cpu_allocator_impl.cc:83] Allocation of 1582105440 exceeds 10% of free system memory.\n",
      "2025-05-04 08:33:11.280637: W external/local_xla/xla/tsl/framework/cpu_allocator_impl.cc:83] Allocation of 1582105440 exceeds 10% of free system memory.\n"
     ]
    },
    {
     "name": "stdout",
     "output_type": "stream",
     "text": [
      "Epoch 1/2\n",
      "\u001b[1m12876/12876\u001b[0m \u001b[32m━━━━━━━━━━━━━━━━━━━━\u001b[0m\u001b[37m\u001b[0m \u001b[1m2658s\u001b[0m 206ms/step - loss: 0.1277\n",
      "Epoch 2/2\n",
      "\u001b[1m12876/12876\u001b[0m \u001b[32m━━━━━━━━━━━━━━━━━━━━\u001b[0m\u001b[37m\u001b[0m \u001b[1m2591s\u001b[0m 201ms/step - loss: 0.0630\n"
     ]
    },
    {
     "data": {
      "text/plain": [
       "<keras.src.callbacks.history.History at 0x7fa1663293c0>"
      ]
     },
     "execution_count": 6,
     "metadata": {},
     "output_type": "execute_result"
    }
   ],
   "source": [
    "model.fit(X_train_seq, X_train_seq, epochs=2, batch_size=1024, shuffle=True, verbose=1)"
   ]
  },
  {
   "cell_type": "code",
   "execution_count": 7,
   "id": "5eca8516",
   "metadata": {},
   "outputs": [
    {
     "name": "stdout",
     "output_type": "stream",
     "text": [
      "\u001b[1m510/510\u001b[0m \u001b[32m━━━━━━━━━━━━━━━━━━━━\u001b[0m\u001b[37m\u001b[0m \u001b[1m20s\u001b[0m 38ms/step\n"
     ]
    }
   ],
   "source": [
    "X_test_seq_reconstructed = model.predict(X_test_seq, batch_size=1024)\n",
    "per_channel_error_seq = np.abs(X_test_seq - X_test_seq_reconstructed)\n",
    "z_scores_seq = (per_channel_error_seq - per_channel_error_seq.mean(axis=0)) / (per_channel_error_seq.std(axis=0) + 1e-8)\n",
    "aggregated_scores = z_scores_seq.max(axis=2).mean(axis=1)"
   ]
  },
  {
   "cell_type": "markdown",
   "id": "8021bf85",
   "metadata": {},
   "source": [
    "## Conv1D-LSTM + Attention"
   ]
  },
  {
   "cell_type": "code",
   "execution_count": 6,
   "id": "4a41acb2",
   "metadata": {},
   "outputs": [
    {
     "name": "stderr",
     "output_type": "stream",
     "text": [
      "I0000 00:00:1746945127.819050    6474 gpu_device.cc:2019] Created device /job:localhost/replica:0/task:0/device:GPU:0 with 4047 MB memory:  -> device: 0, name: NVIDIA GeForce RTX 2060, pci bus id: 0000:2d:00.0, compute capability: 7.5\n"
     ]
    },
    {
     "data": {
      "text/html": [
       "<pre style=\"white-space:pre;overflow-x:auto;line-height:normal;font-family:Menlo,'DejaVu Sans Mono',consolas,'Courier New',monospace\"><span style=\"font-weight: bold\">Model: \"functional\"</span>\n",
       "</pre>\n"
      ],
      "text/plain": [
       "\u001b[1mModel: \"functional\"\u001b[0m\n"
      ]
     },
     "metadata": {},
     "output_type": "display_data"
    },
    {
     "data": {
      "text/html": [
       "<pre style=\"white-space:pre;overflow-x:auto;line-height:normal;font-family:Menlo,'DejaVu Sans Mono',consolas,'Courier New',monospace\">┏━━━━━━━━━━━━━━━━━━━━━┳━━━━━━━━━━━━━━━━━━━┳━━━━━━━━━━━━┳━━━━━━━━━━━━━━━━━━━┓\n",
       "┃<span style=\"font-weight: bold\"> Layer (type)        </span>┃<span style=\"font-weight: bold\"> Output Shape      </span>┃<span style=\"font-weight: bold\">    Param # </span>┃<span style=\"font-weight: bold\"> Connected to      </span>┃\n",
       "┡━━━━━━━━━━━━━━━━━━━━━╇━━━━━━━━━━━━━━━━━━━╇━━━━━━━━━━━━╇━━━━━━━━━━━━━━━━━━━┩\n",
       "│ input_layer         │ (<span style=\"color: #00d7ff; text-decoration-color: #00d7ff\">None</span>, <span style=\"color: #00af00; text-decoration-color: #00af00\">5</span>, <span style=\"color: #00af00; text-decoration-color: #00af00\">6</span>)      │          <span style=\"color: #00af00; text-decoration-color: #00af00\">0</span> │ -                 │\n",
       "│ (<span style=\"color: #0087ff; text-decoration-color: #0087ff\">InputLayer</span>)        │                   │            │                   │\n",
       "├─────────────────────┼───────────────────┼────────────┼───────────────────┤\n",
       "│ conv1d (<span style=\"color: #0087ff; text-decoration-color: #0087ff\">Conv1D</span>)     │ (<span style=\"color: #00d7ff; text-decoration-color: #00d7ff\">None</span>, <span style=\"color: #00af00; text-decoration-color: #00af00\">5</span>, <span style=\"color: #00af00; text-decoration-color: #00af00\">32</span>)     │        <span style=\"color: #00af00; text-decoration-color: #00af00\">608</span> │ input_layer[<span style=\"color: #00af00; text-decoration-color: #00af00\">0</span>][<span style=\"color: #00af00; text-decoration-color: #00af00\">0</span>] │\n",
       "├─────────────────────┼───────────────────┼────────────┼───────────────────┤\n",
       "│ lstm (<span style=\"color: #0087ff; text-decoration-color: #0087ff\">LSTM</span>)         │ (<span style=\"color: #00d7ff; text-decoration-color: #00d7ff\">None</span>, <span style=\"color: #00af00; text-decoration-color: #00af00\">5</span>, <span style=\"color: #00af00; text-decoration-color: #00af00\">64</span>)     │     <span style=\"color: #00af00; text-decoration-color: #00af00\">24,832</span> │ conv1d[<span style=\"color: #00af00; text-decoration-color: #00af00\">0</span>][<span style=\"color: #00af00; text-decoration-color: #00af00\">0</span>]      │\n",
       "├─────────────────────┼───────────────────┼────────────┼───────────────────┤\n",
       "│ layer_normalization │ (<span style=\"color: #00d7ff; text-decoration-color: #00d7ff\">None</span>, <span style=\"color: #00af00; text-decoration-color: #00af00\">5</span>, <span style=\"color: #00af00; text-decoration-color: #00af00\">64</span>)     │        <span style=\"color: #00af00; text-decoration-color: #00af00\">128</span> │ lstm[<span style=\"color: #00af00; text-decoration-color: #00af00\">0</span>][<span style=\"color: #00af00; text-decoration-color: #00af00\">0</span>]        │\n",
       "│ (<span style=\"color: #0087ff; text-decoration-color: #0087ff\">LayerNormalizatio…</span> │                   │            │                   │\n",
       "├─────────────────────┼───────────────────┼────────────┼───────────────────┤\n",
       "│ attention           │ (<span style=\"color: #00d7ff; text-decoration-color: #00d7ff\">None</span>, <span style=\"color: #00af00; text-decoration-color: #00af00\">5</span>, <span style=\"color: #00af00; text-decoration-color: #00af00\">64</span>)     │          <span style=\"color: #00af00; text-decoration-color: #00af00\">0</span> │ layer_normalizat… │\n",
       "│ (<span style=\"color: #0087ff; text-decoration-color: #0087ff\">Attention</span>)         │                   │            │ layer_normalizat… │\n",
       "├─────────────────────┼───────────────────┼────────────┼───────────────────┤\n",
       "│ concatenate         │ (<span style=\"color: #00d7ff; text-decoration-color: #00d7ff\">None</span>, <span style=\"color: #00af00; text-decoration-color: #00af00\">5</span>, <span style=\"color: #00af00; text-decoration-color: #00af00\">128</span>)    │          <span style=\"color: #00af00; text-decoration-color: #00af00\">0</span> │ layer_normalizat… │\n",
       "│ (<span style=\"color: #0087ff; text-decoration-color: #0087ff\">Concatenate</span>)       │                   │            │ attention[<span style=\"color: #00af00; text-decoration-color: #00af00\">0</span>][<span style=\"color: #00af00; text-decoration-color: #00af00\">0</span>]   │\n",
       "├─────────────────────┼───────────────────┼────────────┼───────────────────┤\n",
       "│ lstm_1 (<span style=\"color: #0087ff; text-decoration-color: #0087ff\">LSTM</span>)       │ (<span style=\"color: #00d7ff; text-decoration-color: #00d7ff\">None</span>, <span style=\"color: #00af00; text-decoration-color: #00af00\">64</span>)        │     <span style=\"color: #00af00; text-decoration-color: #00af00\">49,408</span> │ concatenate[<span style=\"color: #00af00; text-decoration-color: #00af00\">0</span>][<span style=\"color: #00af00; text-decoration-color: #00af00\">0</span>] │\n",
       "├─────────────────────┼───────────────────┼────────────┼───────────────────┤\n",
       "│ repeat_vector       │ (<span style=\"color: #00d7ff; text-decoration-color: #00d7ff\">None</span>, <span style=\"color: #00af00; text-decoration-color: #00af00\">5</span>, <span style=\"color: #00af00; text-decoration-color: #00af00\">64</span>)     │          <span style=\"color: #00af00; text-decoration-color: #00af00\">0</span> │ lstm_1[<span style=\"color: #00af00; text-decoration-color: #00af00\">0</span>][<span style=\"color: #00af00; text-decoration-color: #00af00\">0</span>]      │\n",
       "│ (<span style=\"color: #0087ff; text-decoration-color: #0087ff\">RepeatVector</span>)      │                   │            │                   │\n",
       "├─────────────────────┼───────────────────┼────────────┼───────────────────┤\n",
       "│ lstm_2 (<span style=\"color: #0087ff; text-decoration-color: #0087ff\">LSTM</span>)       │ (<span style=\"color: #00d7ff; text-decoration-color: #00d7ff\">None</span>, <span style=\"color: #00af00; text-decoration-color: #00af00\">5</span>, <span style=\"color: #00af00; text-decoration-color: #00af00\">64</span>)     │     <span style=\"color: #00af00; text-decoration-color: #00af00\">33,024</span> │ repeat_vector[<span style=\"color: #00af00; text-decoration-color: #00af00\">0</span>]… │\n",
       "├─────────────────────┼───────────────────┼────────────┼───────────────────┤\n",
       "│ time_distributed    │ (<span style=\"color: #00d7ff; text-decoration-color: #00d7ff\">None</span>, <span style=\"color: #00af00; text-decoration-color: #00af00\">5</span>, <span style=\"color: #00af00; text-decoration-color: #00af00\">6</span>)      │        <span style=\"color: #00af00; text-decoration-color: #00af00\">390</span> │ lstm_2[<span style=\"color: #00af00; text-decoration-color: #00af00\">0</span>][<span style=\"color: #00af00; text-decoration-color: #00af00\">0</span>]      │\n",
       "│ (<span style=\"color: #0087ff; text-decoration-color: #0087ff\">TimeDistributed</span>)   │                   │            │                   │\n",
       "└─────────────────────┴───────────────────┴────────────┴───────────────────┘\n",
       "</pre>\n"
      ],
      "text/plain": [
       "┏━━━━━━━━━━━━━━━━━━━━━┳━━━━━━━━━━━━━━━━━━━┳━━━━━━━━━━━━┳━━━━━━━━━━━━━━━━━━━┓\n",
       "┃\u001b[1m \u001b[0m\u001b[1mLayer (type)       \u001b[0m\u001b[1m \u001b[0m┃\u001b[1m \u001b[0m\u001b[1mOutput Shape     \u001b[0m\u001b[1m \u001b[0m┃\u001b[1m \u001b[0m\u001b[1m   Param #\u001b[0m\u001b[1m \u001b[0m┃\u001b[1m \u001b[0m\u001b[1mConnected to     \u001b[0m\u001b[1m \u001b[0m┃\n",
       "┡━━━━━━━━━━━━━━━━━━━━━╇━━━━━━━━━━━━━━━━━━━╇━━━━━━━━━━━━╇━━━━━━━━━━━━━━━━━━━┩\n",
       "│ input_layer         │ (\u001b[38;5;45mNone\u001b[0m, \u001b[38;5;34m5\u001b[0m, \u001b[38;5;34m6\u001b[0m)      │          \u001b[38;5;34m0\u001b[0m │ -                 │\n",
       "│ (\u001b[38;5;33mInputLayer\u001b[0m)        │                   │            │                   │\n",
       "├─────────────────────┼───────────────────┼────────────┼───────────────────┤\n",
       "│ conv1d (\u001b[38;5;33mConv1D\u001b[0m)     │ (\u001b[38;5;45mNone\u001b[0m, \u001b[38;5;34m5\u001b[0m, \u001b[38;5;34m32\u001b[0m)     │        \u001b[38;5;34m608\u001b[0m │ input_layer[\u001b[38;5;34m0\u001b[0m][\u001b[38;5;34m0\u001b[0m] │\n",
       "├─────────────────────┼───────────────────┼────────────┼───────────────────┤\n",
       "│ lstm (\u001b[38;5;33mLSTM\u001b[0m)         │ (\u001b[38;5;45mNone\u001b[0m, \u001b[38;5;34m5\u001b[0m, \u001b[38;5;34m64\u001b[0m)     │     \u001b[38;5;34m24,832\u001b[0m │ conv1d[\u001b[38;5;34m0\u001b[0m][\u001b[38;5;34m0\u001b[0m]      │\n",
       "├─────────────────────┼───────────────────┼────────────┼───────────────────┤\n",
       "│ layer_normalization │ (\u001b[38;5;45mNone\u001b[0m, \u001b[38;5;34m5\u001b[0m, \u001b[38;5;34m64\u001b[0m)     │        \u001b[38;5;34m128\u001b[0m │ lstm[\u001b[38;5;34m0\u001b[0m][\u001b[38;5;34m0\u001b[0m]        │\n",
       "│ (\u001b[38;5;33mLayerNormalizatio…\u001b[0m │                   │            │                   │\n",
       "├─────────────────────┼───────────────────┼────────────┼───────────────────┤\n",
       "│ attention           │ (\u001b[38;5;45mNone\u001b[0m, \u001b[38;5;34m5\u001b[0m, \u001b[38;5;34m64\u001b[0m)     │          \u001b[38;5;34m0\u001b[0m │ layer_normalizat… │\n",
       "│ (\u001b[38;5;33mAttention\u001b[0m)         │                   │            │ layer_normalizat… │\n",
       "├─────────────────────┼───────────────────┼────────────┼───────────────────┤\n",
       "│ concatenate         │ (\u001b[38;5;45mNone\u001b[0m, \u001b[38;5;34m5\u001b[0m, \u001b[38;5;34m128\u001b[0m)    │          \u001b[38;5;34m0\u001b[0m │ layer_normalizat… │\n",
       "│ (\u001b[38;5;33mConcatenate\u001b[0m)       │                   │            │ attention[\u001b[38;5;34m0\u001b[0m][\u001b[38;5;34m0\u001b[0m]   │\n",
       "├─────────────────────┼───────────────────┼────────────┼───────────────────┤\n",
       "│ lstm_1 (\u001b[38;5;33mLSTM\u001b[0m)       │ (\u001b[38;5;45mNone\u001b[0m, \u001b[38;5;34m64\u001b[0m)        │     \u001b[38;5;34m49,408\u001b[0m │ concatenate[\u001b[38;5;34m0\u001b[0m][\u001b[38;5;34m0\u001b[0m] │\n",
       "├─────────────────────┼───────────────────┼────────────┼───────────────────┤\n",
       "│ repeat_vector       │ (\u001b[38;5;45mNone\u001b[0m, \u001b[38;5;34m5\u001b[0m, \u001b[38;5;34m64\u001b[0m)     │          \u001b[38;5;34m0\u001b[0m │ lstm_1[\u001b[38;5;34m0\u001b[0m][\u001b[38;5;34m0\u001b[0m]      │\n",
       "│ (\u001b[38;5;33mRepeatVector\u001b[0m)      │                   │            │                   │\n",
       "├─────────────────────┼───────────────────┼────────────┼───────────────────┤\n",
       "│ lstm_2 (\u001b[38;5;33mLSTM\u001b[0m)       │ (\u001b[38;5;45mNone\u001b[0m, \u001b[38;5;34m5\u001b[0m, \u001b[38;5;34m64\u001b[0m)     │     \u001b[38;5;34m33,024\u001b[0m │ repeat_vector[\u001b[38;5;34m0\u001b[0m]… │\n",
       "├─────────────────────┼───────────────────┼────────────┼───────────────────┤\n",
       "│ time_distributed    │ (\u001b[38;5;45mNone\u001b[0m, \u001b[38;5;34m5\u001b[0m, \u001b[38;5;34m6\u001b[0m)      │        \u001b[38;5;34m390\u001b[0m │ lstm_2[\u001b[38;5;34m0\u001b[0m][\u001b[38;5;34m0\u001b[0m]      │\n",
       "│ (\u001b[38;5;33mTimeDistributed\u001b[0m)   │                   │            │                   │\n",
       "└─────────────────────┴───────────────────┴────────────┴───────────────────┘\n"
      ]
     },
     "metadata": {},
     "output_type": "display_data"
    },
    {
     "data": {
      "text/html": [
       "<pre style=\"white-space:pre;overflow-x:auto;line-height:normal;font-family:Menlo,'DejaVu Sans Mono',consolas,'Courier New',monospace\"><span style=\"font-weight: bold\"> Total params: </span><span style=\"color: #00af00; text-decoration-color: #00af00\">108,390</span> (423.40 KB)\n",
       "</pre>\n"
      ],
      "text/plain": [
       "\u001b[1m Total params: \u001b[0m\u001b[38;5;34m108,390\u001b[0m (423.40 KB)\n"
      ]
     },
     "metadata": {},
     "output_type": "display_data"
    },
    {
     "data": {
      "text/html": [
       "<pre style=\"white-space:pre;overflow-x:auto;line-height:normal;font-family:Menlo,'DejaVu Sans Mono',consolas,'Courier New',monospace\"><span style=\"font-weight: bold\"> Trainable params: </span><span style=\"color: #00af00; text-decoration-color: #00af00\">108,390</span> (423.40 KB)\n",
       "</pre>\n"
      ],
      "text/plain": [
       "\u001b[1m Trainable params: \u001b[0m\u001b[38;5;34m108,390\u001b[0m (423.40 KB)\n"
      ]
     },
     "metadata": {},
     "output_type": "display_data"
    },
    {
     "data": {
      "text/html": [
       "<pre style=\"white-space:pre;overflow-x:auto;line-height:normal;font-family:Menlo,'DejaVu Sans Mono',consolas,'Courier New',monospace\"><span style=\"font-weight: bold\"> Non-trainable params: </span><span style=\"color: #00af00; text-decoration-color: #00af00\">0</span> (0.00 B)\n",
       "</pre>\n"
      ],
      "text/plain": [
       "\u001b[1m Non-trainable params: \u001b[0m\u001b[38;5;34m0\u001b[0m (0.00 B)\n"
      ]
     },
     "metadata": {},
     "output_type": "display_data"
    }
   ],
   "source": [
    "import numpy as np\n",
    "import tensorflow as tf\n",
    "from tensorflow.keras.models import Model\n",
    "from tensorflow.keras.layers import (\n",
    "    Input, Conv1D, LSTM, RepeatVector, TimeDistributed, Dense,\n",
    "    Attention, LayerNormalization, Concatenate\n",
    ")\n",
    "from tensorflow.keras.optimizers import Adam\n",
    "\n",
    "# Parámetros\n",
    "input_dim = X_train.shape[1]\n",
    "latent_dim = 64\n",
    "\n",
    "# Encoder\n",
    "inputs = Input(shape=(timesteps, input_dim))\n",
    "x = Conv1D(filters=32, kernel_size=3, padding='same', activation='relu')(inputs)\n",
    "x = LSTM(latent_dim, return_sequences=True)(x)\n",
    "x = LayerNormalization()(x)\n",
    "\n",
    "# Atención (clave = valor = x)\n",
    "attention = Attention()([x, x])\n",
    "context = Concatenate()([x, attention])\n",
    "encoded = LSTM(latent_dim, return_sequences=False)(context)\n",
    "\n",
    "# Decoder\n",
    "decoded = RepeatVector(timesteps)(encoded)\n",
    "decoded = LSTM(latent_dim, return_sequences=True)(decoded)\n",
    "decoded = TimeDistributed(Dense(input_dim))(decoded)\n",
    "\n",
    "# Modelo\n",
    "model = Model(inputs, decoded)\n",
    "model.compile(optimizer=Adam(1e-3), loss='mse')\n",
    "model.summary()"
   ]
  },
  {
   "cell_type": "code",
   "execution_count": 7,
   "id": "6bed28c4",
   "metadata": {},
   "outputs": [
    {
     "name": "stderr",
     "output_type": "stream",
     "text": [
      "2025-05-11 08:32:09.348287: W external/local_xla/xla/tsl/framework/cpu_allocator_impl.cc:83] Allocation of 1265684160 exceeds 10% of free system memory.\n",
      "2025-05-11 08:32:10.638145: W external/local_xla/xla/tsl/framework/cpu_allocator_impl.cc:83] Allocation of 1265684160 exceeds 10% of free system memory.\n",
      "2025-05-11 08:32:11.701723: W external/local_xla/xla/tsl/framework/cpu_allocator_impl.cc:83] Allocation of 1265684160 exceeds 10% of free system memory.\n",
      "2025-05-11 08:32:11.927460: W external/local_xla/xla/tsl/framework/cpu_allocator_impl.cc:83] Allocation of 1265684160 exceeds 10% of free system memory.\n",
      "I0000 00:00:1746945135.376963    6668 cuda_dnn.cc:529] Loaded cuDNN version 90300\n"
     ]
    },
    {
     "name": "stdout",
     "output_type": "stream",
     "text": [
      "\u001b[1m10301/10301\u001b[0m \u001b[32m━━━━━━━━━━━━━━━━━━━━\u001b[0m\u001b[37m\u001b[0m \u001b[1m202s\u001b[0m 19ms/step - loss: 0.1018 - val_loss: 9.5478e-04\n"
     ]
    }
   ],
   "source": [
    "history = model.fit(\n",
    "    X_train_seq, X_train_seq,\n",
    "    epochs=1,\n",
    "    batch_size=1024,\n",
    "    validation_data=(X_val_seq, X_val_seq),\n",
    "    verbose=1\n",
    ")"
   ]
  },
  {
   "cell_type": "code",
   "execution_count": 8,
   "id": "a8a81aab",
   "metadata": {},
   "outputs": [
    {
     "name": "stdout",
     "output_type": "stream",
     "text": [
      "\u001b[1m2576/2576\u001b[0m \u001b[32m━━━━━━━━━━━━━━━━━━━━\u001b[0m\u001b[37m\u001b[0m \u001b[1m16s\u001b[0m 6ms/step\n"
     ]
    },
    {
     "data": {
      "text/plain": [
       "np.float32(3.1936722)"
      ]
     },
     "execution_count": 8,
     "metadata": {},
     "output_type": "execute_result"
    }
   ],
   "source": [
    "X_val_seq_reconstructed = model.predict(X_val_seq, batch_size=1024)\n",
    "per_channel_error_val = np.abs(X_val_seq - X_val_seq_reconstructed)\n",
    "z_scores_val = (per_channel_error_val - per_channel_error_val.mean(axis=0)) / (per_channel_error_val.std(axis=0) + 1e-8)\n",
    "aggregated_scores_val = z_scores_val.max(axis=2).mean(axis=1)\n",
    "\n",
    "# 2. Calcular umbral basado en validación (e.g. media + 3 * std)\n",
    "threshold = aggregated_scores_val.mean() + 3 * aggregated_scores_val.std()\n",
    "threshold"
   ]
  },
  {
   "cell_type": "code",
   "execution_count": 9,
   "id": "9688f22e",
   "metadata": {},
   "outputs": [
    {
     "name": "stdout",
     "output_type": "stream",
     "text": [
      "\u001b[1m510/510\u001b[0m \u001b[32m━━━━━━━━━━━━━━━━━━━━\u001b[0m\u001b[37m\u001b[0m \u001b[1m3s\u001b[0m 6ms/step\n"
     ]
    }
   ],
   "source": [
    "X_test_seq_reconstructed = model.predict(X_test_seq, batch_size=1024)\n",
    "per_channel_error_seq = np.abs(X_test_seq - X_test_seq_reconstructed)\n",
    "z_scores_seq = (per_channel_error_seq - per_channel_error_seq.mean(axis=0)) / (per_channel_error_seq.std(axis=0) + 1e-8)\n",
    "aggregated_scores = z_scores_seq.max(axis=2).mean(axis=1)"
   ]
  },
  {
   "cell_type": "markdown",
   "id": "374915f9",
   "metadata": {},
   "source": [
    "## Conv1D-BLSTM + Attention"
   ]
  },
  {
   "cell_type": "code",
   "execution_count": 5,
   "id": "a6c76a79",
   "metadata": {},
   "outputs": [
    {
     "name": "stderr",
     "output_type": "stream",
     "text": [
      "I0000 00:00:1746891678.408197    4520 gpu_device.cc:2019] Created device /job:localhost/replica:0/task:0/device:GPU:0 with 4047 MB memory:  -> device: 0, name: NVIDIA GeForce RTX 2060, pci bus id: 0000:2d:00.0, compute capability: 7.5\n"
     ]
    },
    {
     "data": {
      "text/html": [
       "<pre style=\"white-space:pre;overflow-x:auto;line-height:normal;font-family:Menlo,'DejaVu Sans Mono',consolas,'Courier New',monospace\"><span style=\"font-weight: bold\">Model: \"functional\"</span>\n",
       "</pre>\n"
      ],
      "text/plain": [
       "\u001b[1mModel: \"functional\"\u001b[0m\n"
      ]
     },
     "metadata": {},
     "output_type": "display_data"
    },
    {
     "data": {
      "text/html": [
       "<pre style=\"white-space:pre;overflow-x:auto;line-height:normal;font-family:Menlo,'DejaVu Sans Mono',consolas,'Courier New',monospace\">┏━━━━━━━━━━━━━━━━━━━━━┳━━━━━━━━━━━━━━━━━━━┳━━━━━━━━━━━━┳━━━━━━━━━━━━━━━━━━━┓\n",
       "┃<span style=\"font-weight: bold\"> Layer (type)        </span>┃<span style=\"font-weight: bold\"> Output Shape      </span>┃<span style=\"font-weight: bold\">    Param # </span>┃<span style=\"font-weight: bold\"> Connected to      </span>┃\n",
       "┡━━━━━━━━━━━━━━━━━━━━━╇━━━━━━━━━━━━━━━━━━━╇━━━━━━━━━━━━╇━━━━━━━━━━━━━━━━━━━┩\n",
       "│ input_layer         │ (<span style=\"color: #00d7ff; text-decoration-color: #00d7ff\">None</span>, <span style=\"color: #00af00; text-decoration-color: #00af00\">7</span>, <span style=\"color: #00af00; text-decoration-color: #00af00\">6</span>)      │          <span style=\"color: #00af00; text-decoration-color: #00af00\">0</span> │ -                 │\n",
       "│ (<span style=\"color: #0087ff; text-decoration-color: #0087ff\">InputLayer</span>)        │                   │            │                   │\n",
       "├─────────────────────┼───────────────────┼────────────┼───────────────────┤\n",
       "│ conv1d (<span style=\"color: #0087ff; text-decoration-color: #0087ff\">Conv1D</span>)     │ (<span style=\"color: #00d7ff; text-decoration-color: #00d7ff\">None</span>, <span style=\"color: #00af00; text-decoration-color: #00af00\">7</span>, <span style=\"color: #00af00; text-decoration-color: #00af00\">32</span>)     │        <span style=\"color: #00af00; text-decoration-color: #00af00\">608</span> │ input_layer[<span style=\"color: #00af00; text-decoration-color: #00af00\">0</span>][<span style=\"color: #00af00; text-decoration-color: #00af00\">0</span>] │\n",
       "├─────────────────────┼───────────────────┼────────────┼───────────────────┤\n",
       "│ bidirectional       │ (<span style=\"color: #00d7ff; text-decoration-color: #00d7ff\">None</span>, <span style=\"color: #00af00; text-decoration-color: #00af00\">7</span>, <span style=\"color: #00af00; text-decoration-color: #00af00\">128</span>)    │     <span style=\"color: #00af00; text-decoration-color: #00af00\">49,664</span> │ conv1d[<span style=\"color: #00af00; text-decoration-color: #00af00\">0</span>][<span style=\"color: #00af00; text-decoration-color: #00af00\">0</span>]      │\n",
       "│ (<span style=\"color: #0087ff; text-decoration-color: #0087ff\">Bidirectional</span>)     │                   │            │                   │\n",
       "├─────────────────────┼───────────────────┼────────────┼───────────────────┤\n",
       "│ layer_normalization │ (<span style=\"color: #00d7ff; text-decoration-color: #00d7ff\">None</span>, <span style=\"color: #00af00; text-decoration-color: #00af00\">7</span>, <span style=\"color: #00af00; text-decoration-color: #00af00\">128</span>)    │        <span style=\"color: #00af00; text-decoration-color: #00af00\">256</span> │ bidirectional[<span style=\"color: #00af00; text-decoration-color: #00af00\">0</span>]… │\n",
       "│ (<span style=\"color: #0087ff; text-decoration-color: #0087ff\">LayerNormalizatio…</span> │                   │            │                   │\n",
       "├─────────────────────┼───────────────────┼────────────┼───────────────────┤\n",
       "│ attention           │ (<span style=\"color: #00d7ff; text-decoration-color: #00d7ff\">None</span>, <span style=\"color: #00af00; text-decoration-color: #00af00\">7</span>, <span style=\"color: #00af00; text-decoration-color: #00af00\">128</span>)    │          <span style=\"color: #00af00; text-decoration-color: #00af00\">0</span> │ layer_normalizat… │\n",
       "│ (<span style=\"color: #0087ff; text-decoration-color: #0087ff\">Attention</span>)         │                   │            │ layer_normalizat… │\n",
       "├─────────────────────┼───────────────────┼────────────┼───────────────────┤\n",
       "│ concatenate         │ (<span style=\"color: #00d7ff; text-decoration-color: #00d7ff\">None</span>, <span style=\"color: #00af00; text-decoration-color: #00af00\">7</span>, <span style=\"color: #00af00; text-decoration-color: #00af00\">256</span>)    │          <span style=\"color: #00af00; text-decoration-color: #00af00\">0</span> │ layer_normalizat… │\n",
       "│ (<span style=\"color: #0087ff; text-decoration-color: #0087ff\">Concatenate</span>)       │                   │            │ attention[<span style=\"color: #00af00; text-decoration-color: #00af00\">0</span>][<span style=\"color: #00af00; text-decoration-color: #00af00\">0</span>]   │\n",
       "├─────────────────────┼───────────────────┼────────────┼───────────────────┤\n",
       "│ bidirectional_1     │ (<span style=\"color: #00d7ff; text-decoration-color: #00d7ff\">None</span>, <span style=\"color: #00af00; text-decoration-color: #00af00\">128</span>)       │    <span style=\"color: #00af00; text-decoration-color: #00af00\">164,352</span> │ concatenate[<span style=\"color: #00af00; text-decoration-color: #00af00\">0</span>][<span style=\"color: #00af00; text-decoration-color: #00af00\">0</span>] │\n",
       "│ (<span style=\"color: #0087ff; text-decoration-color: #0087ff\">Bidirectional</span>)     │                   │            │                   │\n",
       "├─────────────────────┼───────────────────┼────────────┼───────────────────┤\n",
       "│ repeat_vector       │ (<span style=\"color: #00d7ff; text-decoration-color: #00d7ff\">None</span>, <span style=\"color: #00af00; text-decoration-color: #00af00\">7</span>, <span style=\"color: #00af00; text-decoration-color: #00af00\">128</span>)    │          <span style=\"color: #00af00; text-decoration-color: #00af00\">0</span> │ bidirectional_1[<span style=\"color: #00af00; text-decoration-color: #00af00\">…</span> │\n",
       "│ (<span style=\"color: #0087ff; text-decoration-color: #0087ff\">RepeatVector</span>)      │                   │            │                   │\n",
       "├─────────────────────┼───────────────────┼────────────┼───────────────────┤\n",
       "│ bidirectional_2     │ (<span style=\"color: #00d7ff; text-decoration-color: #00d7ff\">None</span>, <span style=\"color: #00af00; text-decoration-color: #00af00\">7</span>, <span style=\"color: #00af00; text-decoration-color: #00af00\">128</span>)    │     <span style=\"color: #00af00; text-decoration-color: #00af00\">98,816</span> │ repeat_vector[<span style=\"color: #00af00; text-decoration-color: #00af00\">0</span>]… │\n",
       "│ (<span style=\"color: #0087ff; text-decoration-color: #0087ff\">Bidirectional</span>)     │                   │            │                   │\n",
       "├─────────────────────┼───────────────────┼────────────┼───────────────────┤\n",
       "│ time_distributed    │ (<span style=\"color: #00d7ff; text-decoration-color: #00d7ff\">None</span>, <span style=\"color: #00af00; text-decoration-color: #00af00\">7</span>, <span style=\"color: #00af00; text-decoration-color: #00af00\">6</span>)      │        <span style=\"color: #00af00; text-decoration-color: #00af00\">774</span> │ bidirectional_2[<span style=\"color: #00af00; text-decoration-color: #00af00\">…</span> │\n",
       "│ (<span style=\"color: #0087ff; text-decoration-color: #0087ff\">TimeDistributed</span>)   │                   │            │                   │\n",
       "└─────────────────────┴───────────────────┴────────────┴───────────────────┘\n",
       "</pre>\n"
      ],
      "text/plain": [
       "┏━━━━━━━━━━━━━━━━━━━━━┳━━━━━━━━━━━━━━━━━━━┳━━━━━━━━━━━━┳━━━━━━━━━━━━━━━━━━━┓\n",
       "┃\u001b[1m \u001b[0m\u001b[1mLayer (type)       \u001b[0m\u001b[1m \u001b[0m┃\u001b[1m \u001b[0m\u001b[1mOutput Shape     \u001b[0m\u001b[1m \u001b[0m┃\u001b[1m \u001b[0m\u001b[1m   Param #\u001b[0m\u001b[1m \u001b[0m┃\u001b[1m \u001b[0m\u001b[1mConnected to     \u001b[0m\u001b[1m \u001b[0m┃\n",
       "┡━━━━━━━━━━━━━━━━━━━━━╇━━━━━━━━━━━━━━━━━━━╇━━━━━━━━━━━━╇━━━━━━━━━━━━━━━━━━━┩\n",
       "│ input_layer         │ (\u001b[38;5;45mNone\u001b[0m, \u001b[38;5;34m7\u001b[0m, \u001b[38;5;34m6\u001b[0m)      │          \u001b[38;5;34m0\u001b[0m │ -                 │\n",
       "│ (\u001b[38;5;33mInputLayer\u001b[0m)        │                   │            │                   │\n",
       "├─────────────────────┼───────────────────┼────────────┼───────────────────┤\n",
       "│ conv1d (\u001b[38;5;33mConv1D\u001b[0m)     │ (\u001b[38;5;45mNone\u001b[0m, \u001b[38;5;34m7\u001b[0m, \u001b[38;5;34m32\u001b[0m)     │        \u001b[38;5;34m608\u001b[0m │ input_layer[\u001b[38;5;34m0\u001b[0m][\u001b[38;5;34m0\u001b[0m] │\n",
       "├─────────────────────┼───────────────────┼────────────┼───────────────────┤\n",
       "│ bidirectional       │ (\u001b[38;5;45mNone\u001b[0m, \u001b[38;5;34m7\u001b[0m, \u001b[38;5;34m128\u001b[0m)    │     \u001b[38;5;34m49,664\u001b[0m │ conv1d[\u001b[38;5;34m0\u001b[0m][\u001b[38;5;34m0\u001b[0m]      │\n",
       "│ (\u001b[38;5;33mBidirectional\u001b[0m)     │                   │            │                   │\n",
       "├─────────────────────┼───────────────────┼────────────┼───────────────────┤\n",
       "│ layer_normalization │ (\u001b[38;5;45mNone\u001b[0m, \u001b[38;5;34m7\u001b[0m, \u001b[38;5;34m128\u001b[0m)    │        \u001b[38;5;34m256\u001b[0m │ bidirectional[\u001b[38;5;34m0\u001b[0m]… │\n",
       "│ (\u001b[38;5;33mLayerNormalizatio…\u001b[0m │                   │            │                   │\n",
       "├─────────────────────┼───────────────────┼────────────┼───────────────────┤\n",
       "│ attention           │ (\u001b[38;5;45mNone\u001b[0m, \u001b[38;5;34m7\u001b[0m, \u001b[38;5;34m128\u001b[0m)    │          \u001b[38;5;34m0\u001b[0m │ layer_normalizat… │\n",
       "│ (\u001b[38;5;33mAttention\u001b[0m)         │                   │            │ layer_normalizat… │\n",
       "├─────────────────────┼───────────────────┼────────────┼───────────────────┤\n",
       "│ concatenate         │ (\u001b[38;5;45mNone\u001b[0m, \u001b[38;5;34m7\u001b[0m, \u001b[38;5;34m256\u001b[0m)    │          \u001b[38;5;34m0\u001b[0m │ layer_normalizat… │\n",
       "│ (\u001b[38;5;33mConcatenate\u001b[0m)       │                   │            │ attention[\u001b[38;5;34m0\u001b[0m][\u001b[38;5;34m0\u001b[0m]   │\n",
       "├─────────────────────┼───────────────────┼────────────┼───────────────────┤\n",
       "│ bidirectional_1     │ (\u001b[38;5;45mNone\u001b[0m, \u001b[38;5;34m128\u001b[0m)       │    \u001b[38;5;34m164,352\u001b[0m │ concatenate[\u001b[38;5;34m0\u001b[0m][\u001b[38;5;34m0\u001b[0m] │\n",
       "│ (\u001b[38;5;33mBidirectional\u001b[0m)     │                   │            │                   │\n",
       "├─────────────────────┼───────────────────┼────────────┼───────────────────┤\n",
       "│ repeat_vector       │ (\u001b[38;5;45mNone\u001b[0m, \u001b[38;5;34m7\u001b[0m, \u001b[38;5;34m128\u001b[0m)    │          \u001b[38;5;34m0\u001b[0m │ bidirectional_1[\u001b[38;5;34m…\u001b[0m │\n",
       "│ (\u001b[38;5;33mRepeatVector\u001b[0m)      │                   │            │                   │\n",
       "├─────────────────────┼───────────────────┼────────────┼───────────────────┤\n",
       "│ bidirectional_2     │ (\u001b[38;5;45mNone\u001b[0m, \u001b[38;5;34m7\u001b[0m, \u001b[38;5;34m128\u001b[0m)    │     \u001b[38;5;34m98,816\u001b[0m │ repeat_vector[\u001b[38;5;34m0\u001b[0m]… │\n",
       "│ (\u001b[38;5;33mBidirectional\u001b[0m)     │                   │            │                   │\n",
       "├─────────────────────┼───────────────────┼────────────┼───────────────────┤\n",
       "│ time_distributed    │ (\u001b[38;5;45mNone\u001b[0m, \u001b[38;5;34m7\u001b[0m, \u001b[38;5;34m6\u001b[0m)      │        \u001b[38;5;34m774\u001b[0m │ bidirectional_2[\u001b[38;5;34m…\u001b[0m │\n",
       "│ (\u001b[38;5;33mTimeDistributed\u001b[0m)   │                   │            │                   │\n",
       "└─────────────────────┴───────────────────┴────────────┴───────────────────┘\n"
      ]
     },
     "metadata": {},
     "output_type": "display_data"
    },
    {
     "data": {
      "text/html": [
       "<pre style=\"white-space:pre;overflow-x:auto;line-height:normal;font-family:Menlo,'DejaVu Sans Mono',consolas,'Courier New',monospace\"><span style=\"font-weight: bold\"> Total params: </span><span style=\"color: #00af00; text-decoration-color: #00af00\">314,470</span> (1.20 MB)\n",
       "</pre>\n"
      ],
      "text/plain": [
       "\u001b[1m Total params: \u001b[0m\u001b[38;5;34m314,470\u001b[0m (1.20 MB)\n"
      ]
     },
     "metadata": {},
     "output_type": "display_data"
    },
    {
     "data": {
      "text/html": [
       "<pre style=\"white-space:pre;overflow-x:auto;line-height:normal;font-family:Menlo,'DejaVu Sans Mono',consolas,'Courier New',monospace\"><span style=\"font-weight: bold\"> Trainable params: </span><span style=\"color: #00af00; text-decoration-color: #00af00\">314,470</span> (1.20 MB)\n",
       "</pre>\n"
      ],
      "text/plain": [
       "\u001b[1m Trainable params: \u001b[0m\u001b[38;5;34m314,470\u001b[0m (1.20 MB)\n"
      ]
     },
     "metadata": {},
     "output_type": "display_data"
    },
    {
     "data": {
      "text/html": [
       "<pre style=\"white-space:pre;overflow-x:auto;line-height:normal;font-family:Menlo,'DejaVu Sans Mono',consolas,'Courier New',monospace\"><span style=\"font-weight: bold\"> Non-trainable params: </span><span style=\"color: #00af00; text-decoration-color: #00af00\">0</span> (0.00 B)\n",
       "</pre>\n"
      ],
      "text/plain": [
       "\u001b[1m Non-trainable params: \u001b[0m\u001b[38;5;34m0\u001b[0m (0.00 B)\n"
      ]
     },
     "metadata": {},
     "output_type": "display_data"
    }
   ],
   "source": [
    "import numpy as np\n",
    "import tensorflow as tf\n",
    "from tensorflow.keras.models import Model\n",
    "from tensorflow.keras.layers import (\n",
    "    Input, Conv1D, LSTM, Bidirectional, RepeatVector, TimeDistributed, Dense,\n",
    "    Attention, LayerNormalization, Concatenate\n",
    ")\n",
    "from tensorflow.keras.optimizers import Adam\n",
    "\n",
    "# Parámetros\n",
    "input_dim = X_train.shape[1]  # Número de canales\n",
    "latent_dim = 64\n",
    "\n",
    "# Encoder\n",
    "inputs = Input(shape=(timesteps, input_dim))\n",
    "x = Conv1D(filters=32, kernel_size=3, padding='same', activation='relu')(inputs)\n",
    "x = Bidirectional(LSTM(latent_dim, return_sequences=True))(x)\n",
    "x = LayerNormalization()(x)\n",
    "\n",
    "# Atención (clave = valor = x)\n",
    "attention = Attention()([x, x])\n",
    "context = Concatenate()([x, attention])\n",
    "encoded = Bidirectional(LSTM(latent_dim, return_sequences=False))(context)\n",
    "\n",
    "# Decoder\n",
    "decoded = RepeatVector(timesteps)(encoded)\n",
    "decoded = Bidirectional(LSTM(latent_dim, return_sequences=True))(decoded)\n",
    "decoded = TimeDistributed(Dense(input_dim))(decoded)\n",
    "\n",
    "# Modelo\n",
    "model = Model(inputs, decoded)\n",
    "model.compile(optimizer=Adam(1e-3), loss='mse')\n",
    "model.summary()"
   ]
  },
  {
   "cell_type": "code",
   "execution_count": null,
   "id": "cf2edb6c",
   "metadata": {},
   "outputs": [
    {
     "name": "stderr",
     "output_type": "stream",
     "text": [
      "2025-05-10 17:41:20.161672: W external/local_xla/xla/tsl/framework/cpu_allocator_impl.cc:83] Allocation of 1771957488 exceeds 10% of free system memory.\n",
      "2025-05-10 17:41:21.859623: W external/local_xla/xla/tsl/framework/cpu_allocator_impl.cc:83] Allocation of 1771957488 exceeds 10% of free system memory.\n",
      "2025-05-10 17:41:23.791693: W external/local_xla/xla/tsl/framework/cpu_allocator_impl.cc:83] Allocation of 1771957488 exceeds 10% of free system memory.\n",
      "2025-05-10 17:41:24.101066: W external/local_xla/xla/tsl/framework/cpu_allocator_impl.cc:83] Allocation of 1771957488 exceeds 10% of free system memory.\n"
     ]
    },
    {
     "name": "stdout",
     "output_type": "stream",
     "text": [
      "Epoch 1/2\n"
     ]
    },
    {
     "name": "stderr",
     "output_type": "stream",
     "text": [
      "I0000 00:00:1746891692.135849    4684 cuda_dnn.cc:529] Loaded cuDNN version 90300\n"
     ]
    },
    {
     "name": "stdout",
     "output_type": "stream",
     "text": [
      "\u001b[1m10301/10301\u001b[0m \u001b[32m━━━━━━━━━━━━━━━━━━━━\u001b[0m\u001b[37m\u001b[0m \u001b[1m0s\u001b[0m 30ms/step - loss: 0.1391"
     ]
    }
   ],
   "source": [
    "history = model.fit(\n",
    "    X_train_seq, X_train_seq,\n",
    "    epochs=2,\n",
    "    batch_size=1024,\n",
    "    validation_data=(X_val_seq, X_val_seq),\n",
    "    verbose=1\n",
    ")"
   ]
  },
  {
   "cell_type": "code",
   "execution_count": null,
   "id": "d542053d",
   "metadata": {},
   "outputs": [
    {
     "name": "stdout",
     "output_type": "stream",
     "text": [
      "\u001b[1m510/510\u001b[0m \u001b[32m━━━━━━━━━━━━━━━━━━━━\u001b[0m\u001b[37m\u001b[0m \u001b[1m5s\u001b[0m 9ms/step\n"
     ]
    }
   ],
   "source": [
    "X_test_seq_reconstructed = model.predict(X_test_seq, batch_size=1024)\n",
    "per_channel_error_seq = np.abs(X_test_seq - X_test_seq_reconstructed)\n",
    "z_scores_seq = (per_channel_error_seq - per_channel_error_seq.mean(axis=0)) / (per_channel_error_seq.std(axis=0) + 1e-8)\n",
    "aggregated_scores = z_scores_seq.max(axis=2).mean(axis=1)"
   ]
  },
  {
   "cell_type": "markdown",
   "id": "7953ec4e",
   "metadata": {},
   "source": [
    "# Test"
   ]
  },
  {
   "cell_type": "code",
   "execution_count": null,
   "id": "829165ba",
   "metadata": {},
   "outputs": [],
   "source": [
    "# 5. UMBRAL POR PERCENTIL Y PRUNING\n",
    "threshold = np.percentile(aggregated_scores, 98) # Adjust this value as needed\n",
    "binary_scores = (aggregated_scores > threshold).astype(int)\n",
    "\n",
    "def prune_anomalies(anoms, min_len=10):\n",
    "    anoms = anoms.copy()\n",
    "    labels, num = label(anoms)\n",
    "    for i in range(1, num+1):\n",
    "        idx = np.where(labels == i)[0]\n",
    "        if len(idx) < min_len:\n",
    "            anoms[idx] = 0\n",
    "    return anoms\n",
    "\n",
    "is_anomaly = prune_anomalies(binary_scores, min_len=10)"
   ]
  },
  {
   "cell_type": "code",
   "execution_count": 9,
   "id": "e7b1e3fa",
   "metadata": {},
   "outputs": [
    {
     "data": {
      "text/plain": [
       "((521275,), (521280, 88))"
      ]
     },
     "execution_count": 9,
     "metadata": {},
     "output_type": "execute_result"
    }
   ],
   "source": [
    "is_anomaly.shape, test_df.shape"
   ]
  },
  {
   "cell_type": "code",
   "execution_count": 10,
   "id": "3980add9",
   "metadata": {},
   "outputs": [
    {
     "data": {
      "text/plain": [
       "numpy.ndarray"
      ]
     },
     "execution_count": 10,
     "metadata": {},
     "output_type": "execute_result"
    }
   ],
   "source": [
    "type(X_test_seq)"
   ]
  },
  {
   "cell_type": "markdown",
   "id": "9b075134",
   "metadata": {},
   "source": [
    "# Export CSV"
   ]
  },
  {
   "cell_type": "code",
   "execution_count": null,
   "id": "856575e5",
   "metadata": {},
   "outputs": [],
   "source": [
    "aligned_ids = test_df[\"id\"].iloc[timesteps:].reset_index(drop=True)\n",
    "\n",
    "submission_df = pd.DataFrame({\n",
    "    \"id\": aligned_ids,\n",
    "    \"is_anomaly\": is_anomaly\n",
    "})\n",
    "\n",
    "submission_df.to_csv(\"../out/Conv1D-LSTM_Attention_Telemanom_0_new_threshold.csv\", index=False)"
   ]
  },
  {
   "cell_type": "code",
   "execution_count": null,
   "id": "e04696f2",
   "metadata": {},
   "outputs": [],
   "source": [
    "# 6. EXPORTACIÓN\n",
    "submission_df = pd.DataFrame({\n",
    "    \"id\": test_df[\"id\"],\n",
    "    \"is_anomaly\": is_anomaly\n",
    "})\n",
    "submission_df.to_csv(\"../out/LSTM_AE_Telemanom_0_98.csv\", index=False)"
   ]
  },
  {
   "cell_type": "code",
   "execution_count": 19,
   "id": "ec2764a0",
   "metadata": {},
   "outputs": [
    {
     "data": {
      "text/plain": [
       "is_anomaly\n",
       "0    516783\n",
       "1      4492\n",
       "Name: count, dtype: int64"
      ]
     },
     "execution_count": 19,
     "metadata": {},
     "output_type": "execute_result"
    }
   ],
   "source": [
    "df = pd.read_csv(\"../out/LSTM_AE_Telemanom_0_98.csv\")\n",
    "df[\"is_anomaly\"].value_counts()"
   ]
  }
 ],
 "metadata": {
  "kaggle": {
   "accelerator": "none",
   "dataSources": [
    {
     "databundleVersionId": 11331308,
     "sourceId": 93783,
     "sourceType": "competition"
    },
    {
     "isSourceIdPinned": true,
     "modelId": 261813,
     "modelInstanceId": 240168,
     "sourceId": 280335,
     "sourceType": "modelInstanceVersion"
    }
   ],
   "isGpuEnabled": false,
   "isInternetEnabled": false,
   "language": "python",
   "sourceType": "notebook"
  },
  "kernelspec": {
   "display_name": "venv",
   "language": "python",
   "name": "python3"
  },
  "language_info": {
   "codemirror_mode": {
    "name": "ipython",
    "version": 3
   },
   "file_extension": ".py",
   "mimetype": "text/x-python",
   "name": "python",
   "nbconvert_exporter": "python",
   "pygments_lexer": "ipython3",
   "version": "3.12.3"
  },
  "papermill": {
   "default_parameters": {},
   "duration": 13.264383,
   "end_time": "2025-03-13T14:00:37.524440",
   "environment_variables": {},
   "exception": null,
   "input_path": "__notebook__.ipynb",
   "output_path": "__notebook__.ipynb",
   "parameters": {},
   "start_time": "2025-03-13T14:00:24.260057",
   "version": "2.6.0"
  }
 },
 "nbformat": 4,
 "nbformat_minor": 5
}
